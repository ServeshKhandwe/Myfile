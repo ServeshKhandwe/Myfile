{
  "nbformat": 4,
  "nbformat_minor": 0,
  "metadata": {
    "colab": {
      "name": "Final",
      "provenance": [],
      "collapsed_sections": [
        "15NyJwnGZpk2"
      ]
    },
    "kernelspec": {
      "name": "python3",
      "display_name": "Python 3"
    },
    "language_info": {
      "name": "python"
    }
  },
  "cells": [
    {
      "cell_type": "code",
      "source": [
        "pip install plydata\n"
      ],
      "metadata": {
        "colab": {
          "base_uri": "https://localhost:8080/"
        },
        "id": "NYOuN0w5b0ju",
        "outputId": "fd9264e2-aa13-4837-9260-3eb11f555edf"
      },
      "execution_count": 77,
      "outputs": [
        {
          "output_type": "stream",
          "name": "stdout",
          "text": [
            "Looking in indexes: https://pypi.org/simple, https://us-python.pkg.dev/colab-wheels/public/simple/\n",
            "Requirement already satisfied: plydata in /usr/local/lib/python3.7/dist-packages (0.4.3)\n",
            "Requirement already satisfied: pandas>=1.1.5 in /usr/local/lib/python3.7/dist-packages (from plydata) (1.3.5)\n",
            "Requirement already satisfied: pytz>=2017.3 in /usr/local/lib/python3.7/dist-packages (from pandas>=1.1.5->plydata) (2022.1)\n",
            "Requirement already satisfied: python-dateutil>=2.7.3 in /usr/local/lib/python3.7/dist-packages (from pandas>=1.1.5->plydata) (2.8.2)\n",
            "Requirement already satisfied: numpy>=1.17.3 in /usr/local/lib/python3.7/dist-packages (from pandas>=1.1.5->plydata) (1.21.6)\n",
            "Requirement already satisfied: six>=1.5 in /usr/local/lib/python3.7/dist-packages (from python-dateutil>=2.7.3->pandas>=1.1.5->plydata) (1.15.0)\n"
          ]
        }
      ]
    },
    {
      "cell_type": "code",
      "execution_count": 78,
      "metadata": {
        "id": "ziWWdRqEbK2t"
      },
      "outputs": [],
      "source": [
        "import pandas as pd\n",
        "import numpy as np\n",
        "import joblib\n",
        "import plydata.cat_tools as cat\n",
        "import plotnine as pn\n",
        "from xgboost import XGBClassifier, XGBRegressor\n",
        "from sklearn.model_selection import GridSearchCV"
      ]
    },
    {
      "cell_type": "code",
      "source": [
        "pn.options.dpi=300"
      ],
      "metadata": {
        "id": "xgLuXIs4bhff"
      },
      "execution_count": 79,
      "outputs": []
    },
    {
      "cell_type": "markdown",
      "source": [
        "Data Preparation\n"
      ],
      "metadata": {
        "id": "bnDwyfrVccBk"
      }
    },
    {
      "cell_type": "code",
      "source": [
        "url1='https://raw.githubusercontent.com/ServeshKhandwe/Myfile/main/customer.csv?token=GHSAT0AAAAAABXQXSWMMTUKEOFWK7YF4SVKYXZHSQQ'\n",
        "customers=pd.read_csv(url1)"
      ],
      "metadata": {
        "id": "y_POzoF5cUjS"
      },
      "execution_count": 80,
      "outputs": []
    },
    {
      "cell_type": "code",
      "source": [
        "transactions=pd.read_csv('https://raw.githubusercontent.com/ServeshKhandwe/Myfile/main/Transactions.csv?token=GHSAT0AAAAAABXQXSWNSF7BHECIVOLWR4PGYXZHSSA')"
      ],
      "metadata": {
        "id": "KZUfZXCAdD6o"
      },
      "execution_count": 81,
      "outputs": []
    },
    {
      "cell_type": "code",
      "source": [
        "time=pd.read_csv('https://raw.githubusercontent.com/ServeshKhandwe/Myfile/main/time.csv?token=GHSAT0AAAAAABXQXSWNWUSHNYBRS4SEORX6YXZHSPA')"
      ],
      "metadata": {
        "id": "ssq3U8lNdYk4"
      },
      "execution_count": 82,
      "outputs": []
    },
    {
      "cell_type": "code",
      "source": [
        "data=pd.merge(customers,transactions,on ='customer_id', how ='inner')"
      ],
      "metadata": {
        "id": "W0GLZCWQdcyP"
      },
      "execution_count": 83,
      "outputs": []
    },
    {
      "cell_type": "code",
      "source": [
        "data2=pd.merge(data,time, on='time_id', how=\"inner\")"
      ],
      "metadata": {
        "id": "unIdbtCVd7y3"
      },
      "execution_count": 84,
      "outputs": []
    },
    {
      "cell_type": "code",
      "source": [
        "fdata=data2[['customer_id', 'the_date', 'unit_sales', 'store_sales']]"
      ],
      "metadata": {
        "id": "-t2f_VP3d-Nf"
      },
      "execution_count": 85,
      "outputs": []
    },
    {
      "cell_type": "code",
      "source": [
        "fdata"
      ],
      "metadata": {
        "colab": {
          "base_uri": "https://localhost:8080/",
          "height": 424
        },
        "id": "oKDdGgUkek9T",
        "outputId": "439d0e7f-ca11-4898-98c7-51b7e43e79e0"
      },
      "execution_count": 86,
      "outputs": [
        {
          "output_type": "execute_result",
          "data": {
            "text/plain": [
              "        customer_id             the_date  unit_sales  store_sales\n",
              "0                 3  1997-04-27 00:00:00         3.0         2.79\n",
              "1                 3  1997-04-27 00:00:00         2.0         5.56\n",
              "2                 3  1997-04-27 00:00:00         2.0         2.76\n",
              "3                 3  1997-04-27 00:00:00         2.0         4.46\n",
              "4                 3  1997-04-27 00:00:00         3.0         6.84\n",
              "...             ...                  ...         ...          ...\n",
              "251390         7557  1997-04-25 00:00:00         1.0         1.86\n",
              "251391         7889  1997-04-25 00:00:00         1.0         1.85\n",
              "251392         7889  1997-04-25 00:00:00         2.0         5.66\n",
              "251393         7889  1997-04-25 00:00:00         1.0         1.90\n",
              "251394         7889  1997-04-25 00:00:00         1.0         1.25\n",
              "\n",
              "[251395 rows x 4 columns]"
            ],
            "text/html": [
              "\n",
              "  <div id=\"df-6cdddfe0-4b89-4185-ad19-e4db7d784892\">\n",
              "    <div class=\"colab-df-container\">\n",
              "      <div>\n",
              "<style scoped>\n",
              "    .dataframe tbody tr th:only-of-type {\n",
              "        vertical-align: middle;\n",
              "    }\n",
              "\n",
              "    .dataframe tbody tr th {\n",
              "        vertical-align: top;\n",
              "    }\n",
              "\n",
              "    .dataframe thead th {\n",
              "        text-align: right;\n",
              "    }\n",
              "</style>\n",
              "<table border=\"1\" class=\"dataframe\">\n",
              "  <thead>\n",
              "    <tr style=\"text-align: right;\">\n",
              "      <th></th>\n",
              "      <th>customer_id</th>\n",
              "      <th>the_date</th>\n",
              "      <th>unit_sales</th>\n",
              "      <th>store_sales</th>\n",
              "    </tr>\n",
              "  </thead>\n",
              "  <tbody>\n",
              "    <tr>\n",
              "      <th>0</th>\n",
              "      <td>3</td>\n",
              "      <td>1997-04-27 00:00:00</td>\n",
              "      <td>3.0</td>\n",
              "      <td>2.79</td>\n",
              "    </tr>\n",
              "    <tr>\n",
              "      <th>1</th>\n",
              "      <td>3</td>\n",
              "      <td>1997-04-27 00:00:00</td>\n",
              "      <td>2.0</td>\n",
              "      <td>5.56</td>\n",
              "    </tr>\n",
              "    <tr>\n",
              "      <th>2</th>\n",
              "      <td>3</td>\n",
              "      <td>1997-04-27 00:00:00</td>\n",
              "      <td>2.0</td>\n",
              "      <td>2.76</td>\n",
              "    </tr>\n",
              "    <tr>\n",
              "      <th>3</th>\n",
              "      <td>3</td>\n",
              "      <td>1997-04-27 00:00:00</td>\n",
              "      <td>2.0</td>\n",
              "      <td>4.46</td>\n",
              "    </tr>\n",
              "    <tr>\n",
              "      <th>4</th>\n",
              "      <td>3</td>\n",
              "      <td>1997-04-27 00:00:00</td>\n",
              "      <td>3.0</td>\n",
              "      <td>6.84</td>\n",
              "    </tr>\n",
              "    <tr>\n",
              "      <th>...</th>\n",
              "      <td>...</td>\n",
              "      <td>...</td>\n",
              "      <td>...</td>\n",
              "      <td>...</td>\n",
              "    </tr>\n",
              "    <tr>\n",
              "      <th>251390</th>\n",
              "      <td>7557</td>\n",
              "      <td>1997-04-25 00:00:00</td>\n",
              "      <td>1.0</td>\n",
              "      <td>1.86</td>\n",
              "    </tr>\n",
              "    <tr>\n",
              "      <th>251391</th>\n",
              "      <td>7889</td>\n",
              "      <td>1997-04-25 00:00:00</td>\n",
              "      <td>1.0</td>\n",
              "      <td>1.85</td>\n",
              "    </tr>\n",
              "    <tr>\n",
              "      <th>251392</th>\n",
              "      <td>7889</td>\n",
              "      <td>1997-04-25 00:00:00</td>\n",
              "      <td>2.0</td>\n",
              "      <td>5.66</td>\n",
              "    </tr>\n",
              "    <tr>\n",
              "      <th>251393</th>\n",
              "      <td>7889</td>\n",
              "      <td>1997-04-25 00:00:00</td>\n",
              "      <td>1.0</td>\n",
              "      <td>1.90</td>\n",
              "    </tr>\n",
              "    <tr>\n",
              "      <th>251394</th>\n",
              "      <td>7889</td>\n",
              "      <td>1997-04-25 00:00:00</td>\n",
              "      <td>1.0</td>\n",
              "      <td>1.25</td>\n",
              "    </tr>\n",
              "  </tbody>\n",
              "</table>\n",
              "<p>251395 rows × 4 columns</p>\n",
              "</div>\n",
              "      <button class=\"colab-df-convert\" onclick=\"convertToInteractive('df-6cdddfe0-4b89-4185-ad19-e4db7d784892')\"\n",
              "              title=\"Convert this dataframe to an interactive table.\"\n",
              "              style=\"display:none;\">\n",
              "        \n",
              "  <svg xmlns=\"http://www.w3.org/2000/svg\" height=\"24px\"viewBox=\"0 0 24 24\"\n",
              "       width=\"24px\">\n",
              "    <path d=\"M0 0h24v24H0V0z\" fill=\"none\"/>\n",
              "    <path d=\"M18.56 5.44l.94 2.06.94-2.06 2.06-.94-2.06-.94-.94-2.06-.94 2.06-2.06.94zm-11 1L8.5 8.5l.94-2.06 2.06-.94-2.06-.94L8.5 2.5l-.94 2.06-2.06.94zm10 10l.94 2.06.94-2.06 2.06-.94-2.06-.94-.94-2.06-.94 2.06-2.06.94z\"/><path d=\"M17.41 7.96l-1.37-1.37c-.4-.4-.92-.59-1.43-.59-.52 0-1.04.2-1.43.59L10.3 9.45l-7.72 7.72c-.78.78-.78 2.05 0 2.83L4 21.41c.39.39.9.59 1.41.59.51 0 1.02-.2 1.41-.59l7.78-7.78 2.81-2.81c.8-.78.8-2.07 0-2.86zM5.41 20L4 18.59l7.72-7.72 1.47 1.35L5.41 20z\"/>\n",
              "  </svg>\n",
              "      </button>\n",
              "      \n",
              "  <style>\n",
              "    .colab-df-container {\n",
              "      display:flex;\n",
              "      flex-wrap:wrap;\n",
              "      gap: 12px;\n",
              "    }\n",
              "\n",
              "    .colab-df-convert {\n",
              "      background-color: #E8F0FE;\n",
              "      border: none;\n",
              "      border-radius: 50%;\n",
              "      cursor: pointer;\n",
              "      display: none;\n",
              "      fill: #1967D2;\n",
              "      height: 32px;\n",
              "      padding: 0 0 0 0;\n",
              "      width: 32px;\n",
              "    }\n",
              "\n",
              "    .colab-df-convert:hover {\n",
              "      background-color: #E2EBFA;\n",
              "      box-shadow: 0px 1px 2px rgba(60, 64, 67, 0.3), 0px 1px 3px 1px rgba(60, 64, 67, 0.15);\n",
              "      fill: #174EA6;\n",
              "    }\n",
              "\n",
              "    [theme=dark] .colab-df-convert {\n",
              "      background-color: #3B4455;\n",
              "      fill: #D2E3FC;\n",
              "    }\n",
              "\n",
              "    [theme=dark] .colab-df-convert:hover {\n",
              "      background-color: #434B5C;\n",
              "      box-shadow: 0px 1px 3px 1px rgba(0, 0, 0, 0.15);\n",
              "      filter: drop-shadow(0px 1px 2px rgba(0, 0, 0, 0.3));\n",
              "      fill: #FFFFFF;\n",
              "    }\n",
              "  </style>\n",
              "\n",
              "      <script>\n",
              "        const buttonEl =\n",
              "          document.querySelector('#df-6cdddfe0-4b89-4185-ad19-e4db7d784892 button.colab-df-convert');\n",
              "        buttonEl.style.display =\n",
              "          google.colab.kernel.accessAllowed ? 'block' : 'none';\n",
              "\n",
              "        async function convertToInteractive(key) {\n",
              "          const element = document.querySelector('#df-6cdddfe0-4b89-4185-ad19-e4db7d784892');\n",
              "          const dataTable =\n",
              "            await google.colab.kernel.invokeFunction('convertToInteractive',\n",
              "                                                     [key], {});\n",
              "          if (!dataTable) return;\n",
              "\n",
              "          const docLinkHtml = 'Like what you see? Visit the ' +\n",
              "            '<a target=\"_blank\" href=https://colab.research.google.com/notebooks/data_table.ipynb>data table notebook</a>'\n",
              "            + ' to learn more about interactive tables.';\n",
              "          element.innerHTML = '';\n",
              "          dataTable['output_type'] = 'display_data';\n",
              "          await google.colab.output.renderOutput(dataTable, element);\n",
              "          const docLink = document.createElement('div');\n",
              "          docLink.innerHTML = docLinkHtml;\n",
              "          element.appendChild(docLink);\n",
              "        }\n",
              "      </script>\n",
              "    </div>\n",
              "  </div>\n",
              "  "
            ]
          },
          "metadata": {},
          "execution_count": 86
        }
      ]
    },
    {
      "cell_type": "code",
      "source": [
        "fdata.info()"
      ],
      "metadata": {
        "colab": {
          "base_uri": "https://localhost:8080/"
        },
        "id": "ijlMqmXbezyi",
        "outputId": "ae96d997-dd29-4297-8986-4604deb4f4a9"
      },
      "execution_count": 87,
      "outputs": [
        {
          "output_type": "stream",
          "name": "stdout",
          "text": [
            "<class 'pandas.core.frame.DataFrame'>\n",
            "Int64Index: 251395 entries, 0 to 251394\n",
            "Data columns (total 4 columns):\n",
            " #   Column       Non-Null Count   Dtype  \n",
            "---  ------       --------------   -----  \n",
            " 0   customer_id  251395 non-null  int64  \n",
            " 1   the_date     251395 non-null  object \n",
            " 2   unit_sales   251395 non-null  float64\n",
            " 3   store_sales  251395 non-null  float64\n",
            "dtypes: float64(2), int64(1), object(1)\n",
            "memory usage: 9.6+ MB\n"
          ]
        }
      ]
    },
    {
      "cell_type": "code",
      "source": [
        "fdata['the_date']=fdata['the_date'].map(lambda x:x.rstrip('00:00:00'))"
      ],
      "metadata": {
        "colab": {
          "base_uri": "https://localhost:8080/"
        },
        "id": "dBm--_5FfJYE",
        "outputId": "0e7e24b2-9c7c-45e5-9d03-d2862e782507"
      },
      "execution_count": 88,
      "outputs": [
        {
          "output_type": "stream",
          "name": "stderr",
          "text": [
            "/usr/local/lib/python3.7/dist-packages/ipykernel_launcher.py:1: SettingWithCopyWarning: \n",
            "A value is trying to be set on a copy of a slice from a DataFrame.\n",
            "Try using .loc[row_indexer,col_indexer] = value instead\n",
            "\n",
            "See the caveats in the documentation: https://pandas.pydata.org/pandas-docs/stable/user_guide/indexing.html#returning-a-view-versus-a-copy\n",
            "  \"\"\"Entry point for launching an IPython kernel.\n"
          ]
        }
      ]
    },
    {
      "cell_type": "code",
      "source": [
        "fdata['the_date']"
      ],
      "metadata": {
        "colab": {
          "base_uri": "https://localhost:8080/"
        },
        "id": "ZwCBzbWSgWjw",
        "outputId": "0c67ff8c-c51d-4f03-ee58-7e44b140b8cd"
      },
      "execution_count": 89,
      "outputs": [
        {
          "output_type": "execute_result",
          "data": {
            "text/plain": [
              "0         1997-04-27 \n",
              "1         1997-04-27 \n",
              "2         1997-04-27 \n",
              "3         1997-04-27 \n",
              "4         1997-04-27 \n",
              "             ...     \n",
              "251390    1997-04-25 \n",
              "251391    1997-04-25 \n",
              "251392    1997-04-25 \n",
              "251393    1997-04-25 \n",
              "251394    1997-04-25 \n",
              "Name: the_date, Length: 251395, dtype: object"
            ]
          },
          "metadata": {},
          "execution_count": 89
        }
      ]
    },
    {
      "cell_type": "code",
      "source": [
        "fdata['the_date']=pd.to_datetime(fdata['the_date'])"
      ],
      "metadata": {
        "colab": {
          "base_uri": "https://localhost:8080/"
        },
        "id": "bt1esP3kin_4",
        "outputId": "bfee6853-f85c-45e9-d161-c15d9f21cb8d"
      },
      "execution_count": 90,
      "outputs": [
        {
          "output_type": "stream",
          "name": "stderr",
          "text": [
            "/usr/local/lib/python3.7/dist-packages/ipykernel_launcher.py:1: SettingWithCopyWarning: \n",
            "A value is trying to be set on a copy of a slice from a DataFrame.\n",
            "Try using .loc[row_indexer,col_indexer] = value instead\n",
            "\n",
            "See the caveats in the documentation: https://pandas.pydata.org/pandas-docs/stable/user_guide/indexing.html#returning-a-view-versus-a-copy\n",
            "  \"\"\"Entry point for launching an IPython kernel.\n"
          ]
        }
      ]
    },
    {
      "cell_type": "markdown",
      "source": [
        "Cohort Analysis"
      ],
      "metadata": {
        "id": "08LcuTaSkEX8"
      }
    },
    {
      "cell_type": "markdown",
      "source": [
        "getting a range of intial purchases\n"
      ],
      "metadata": {
        "id": "qBjMhW1VkeYC"
      }
    },
    {
      "cell_type": "code",
      "source": [
        "initial_purchases=fdata\\\n",
        "  .sort_values(['customer_id', 'the_date'])\\\n",
        "  .groupby('customer_id')\\\n",
        "  .first()"
      ],
      "metadata": {
        "id": "a7587f-LkEKq"
      },
      "execution_count": 91,
      "outputs": []
    },
    {
      "cell_type": "code",
      "source": [
        "initial_purchases"
      ],
      "metadata": {
        "colab": {
          "base_uri": "https://localhost:8080/",
          "height": 455
        },
        "id": "4LGjTN_cjOEs",
        "outputId": "840d874e-2e9c-4741-b8df-4ffc667ba4eb"
      },
      "execution_count": 92,
      "outputs": [
        {
          "output_type": "execute_result",
          "data": {
            "text/plain": [
              "              the_date  unit_sales  store_sales\n",
              "customer_id                                    \n",
              "3           1997-04-27         3.0         2.79\n",
              "5           1997-01-04         2.0         1.08\n",
              "6           1997-07-23         4.0        13.32\n",
              "8           1998-03-02         2.0         6.92\n",
              "9           1998-04-27         3.0         4.80\n",
              "...                ...         ...          ...\n",
              "10275       1997-05-05         4.0        15.72\n",
              "10277       1997-04-01         4.0         5.28\n",
              "10278       1998-02-27         2.0         1.80\n",
              "10280       1998-02-19         4.0         8.84\n",
              "10281       1998-01-07         5.0        14.45\n",
              "\n",
              "[8736 rows x 3 columns]"
            ],
            "text/html": [
              "\n",
              "  <div id=\"df-69d76854-87f0-4593-805a-164bab0a8516\">\n",
              "    <div class=\"colab-df-container\">\n",
              "      <div>\n",
              "<style scoped>\n",
              "    .dataframe tbody tr th:only-of-type {\n",
              "        vertical-align: middle;\n",
              "    }\n",
              "\n",
              "    .dataframe tbody tr th {\n",
              "        vertical-align: top;\n",
              "    }\n",
              "\n",
              "    .dataframe thead th {\n",
              "        text-align: right;\n",
              "    }\n",
              "</style>\n",
              "<table border=\"1\" class=\"dataframe\">\n",
              "  <thead>\n",
              "    <tr style=\"text-align: right;\">\n",
              "      <th></th>\n",
              "      <th>the_date</th>\n",
              "      <th>unit_sales</th>\n",
              "      <th>store_sales</th>\n",
              "    </tr>\n",
              "    <tr>\n",
              "      <th>customer_id</th>\n",
              "      <th></th>\n",
              "      <th></th>\n",
              "      <th></th>\n",
              "    </tr>\n",
              "  </thead>\n",
              "  <tbody>\n",
              "    <tr>\n",
              "      <th>3</th>\n",
              "      <td>1997-04-27</td>\n",
              "      <td>3.0</td>\n",
              "      <td>2.79</td>\n",
              "    </tr>\n",
              "    <tr>\n",
              "      <th>5</th>\n",
              "      <td>1997-01-04</td>\n",
              "      <td>2.0</td>\n",
              "      <td>1.08</td>\n",
              "    </tr>\n",
              "    <tr>\n",
              "      <th>6</th>\n",
              "      <td>1997-07-23</td>\n",
              "      <td>4.0</td>\n",
              "      <td>13.32</td>\n",
              "    </tr>\n",
              "    <tr>\n",
              "      <th>8</th>\n",
              "      <td>1998-03-02</td>\n",
              "      <td>2.0</td>\n",
              "      <td>6.92</td>\n",
              "    </tr>\n",
              "    <tr>\n",
              "      <th>9</th>\n",
              "      <td>1998-04-27</td>\n",
              "      <td>3.0</td>\n",
              "      <td>4.80</td>\n",
              "    </tr>\n",
              "    <tr>\n",
              "      <th>...</th>\n",
              "      <td>...</td>\n",
              "      <td>...</td>\n",
              "      <td>...</td>\n",
              "    </tr>\n",
              "    <tr>\n",
              "      <th>10275</th>\n",
              "      <td>1997-05-05</td>\n",
              "      <td>4.0</td>\n",
              "      <td>15.72</td>\n",
              "    </tr>\n",
              "    <tr>\n",
              "      <th>10277</th>\n",
              "      <td>1997-04-01</td>\n",
              "      <td>4.0</td>\n",
              "      <td>5.28</td>\n",
              "    </tr>\n",
              "    <tr>\n",
              "      <th>10278</th>\n",
              "      <td>1998-02-27</td>\n",
              "      <td>2.0</td>\n",
              "      <td>1.80</td>\n",
              "    </tr>\n",
              "    <tr>\n",
              "      <th>10280</th>\n",
              "      <td>1998-02-19</td>\n",
              "      <td>4.0</td>\n",
              "      <td>8.84</td>\n",
              "    </tr>\n",
              "    <tr>\n",
              "      <th>10281</th>\n",
              "      <td>1998-01-07</td>\n",
              "      <td>5.0</td>\n",
              "      <td>14.45</td>\n",
              "    </tr>\n",
              "  </tbody>\n",
              "</table>\n",
              "<p>8736 rows × 3 columns</p>\n",
              "</div>\n",
              "      <button class=\"colab-df-convert\" onclick=\"convertToInteractive('df-69d76854-87f0-4593-805a-164bab0a8516')\"\n",
              "              title=\"Convert this dataframe to an interactive table.\"\n",
              "              style=\"display:none;\">\n",
              "        \n",
              "  <svg xmlns=\"http://www.w3.org/2000/svg\" height=\"24px\"viewBox=\"0 0 24 24\"\n",
              "       width=\"24px\">\n",
              "    <path d=\"M0 0h24v24H0V0z\" fill=\"none\"/>\n",
              "    <path d=\"M18.56 5.44l.94 2.06.94-2.06 2.06-.94-2.06-.94-.94-2.06-.94 2.06-2.06.94zm-11 1L8.5 8.5l.94-2.06 2.06-.94-2.06-.94L8.5 2.5l-.94 2.06-2.06.94zm10 10l.94 2.06.94-2.06 2.06-.94-2.06-.94-.94-2.06-.94 2.06-2.06.94z\"/><path d=\"M17.41 7.96l-1.37-1.37c-.4-.4-.92-.59-1.43-.59-.52 0-1.04.2-1.43.59L10.3 9.45l-7.72 7.72c-.78.78-.78 2.05 0 2.83L4 21.41c.39.39.9.59 1.41.59.51 0 1.02-.2 1.41-.59l7.78-7.78 2.81-2.81c.8-.78.8-2.07 0-2.86zM5.41 20L4 18.59l7.72-7.72 1.47 1.35L5.41 20z\"/>\n",
              "  </svg>\n",
              "      </button>\n",
              "      \n",
              "  <style>\n",
              "    .colab-df-container {\n",
              "      display:flex;\n",
              "      flex-wrap:wrap;\n",
              "      gap: 12px;\n",
              "    }\n",
              "\n",
              "    .colab-df-convert {\n",
              "      background-color: #E8F0FE;\n",
              "      border: none;\n",
              "      border-radius: 50%;\n",
              "      cursor: pointer;\n",
              "      display: none;\n",
              "      fill: #1967D2;\n",
              "      height: 32px;\n",
              "      padding: 0 0 0 0;\n",
              "      width: 32px;\n",
              "    }\n",
              "\n",
              "    .colab-df-convert:hover {\n",
              "      background-color: #E2EBFA;\n",
              "      box-shadow: 0px 1px 2px rgba(60, 64, 67, 0.3), 0px 1px 3px 1px rgba(60, 64, 67, 0.15);\n",
              "      fill: #174EA6;\n",
              "    }\n",
              "\n",
              "    [theme=dark] .colab-df-convert {\n",
              "      background-color: #3B4455;\n",
              "      fill: #D2E3FC;\n",
              "    }\n",
              "\n",
              "    [theme=dark] .colab-df-convert:hover {\n",
              "      background-color: #434B5C;\n",
              "      box-shadow: 0px 1px 3px 1px rgba(0, 0, 0, 0.15);\n",
              "      filter: drop-shadow(0px 1px 2px rgba(0, 0, 0, 0.3));\n",
              "      fill: #FFFFFF;\n",
              "    }\n",
              "  </style>\n",
              "\n",
              "      <script>\n",
              "        const buttonEl =\n",
              "          document.querySelector('#df-69d76854-87f0-4593-805a-164bab0a8516 button.colab-df-convert');\n",
              "        buttonEl.style.display =\n",
              "          google.colab.kernel.accessAllowed ? 'block' : 'none';\n",
              "\n",
              "        async function convertToInteractive(key) {\n",
              "          const element = document.querySelector('#df-69d76854-87f0-4593-805a-164bab0a8516');\n",
              "          const dataTable =\n",
              "            await google.colab.kernel.invokeFunction('convertToInteractive',\n",
              "                                                     [key], {});\n",
              "          if (!dataTable) return;\n",
              "\n",
              "          const docLinkHtml = 'Like what you see? Visit the ' +\n",
              "            '<a target=\"_blank\" href=https://colab.research.google.com/notebooks/data_table.ipynb>data table notebook</a>'\n",
              "            + ' to learn more about interactive tables.';\n",
              "          element.innerHTML = '';\n",
              "          dataTable['output_type'] = 'display_data';\n",
              "          await google.colab.output.renderOutput(dataTable, element);\n",
              "          const docLink = document.createElement('div');\n",
              "          docLink.innerHTML = docLinkHtml;\n",
              "          element.appendChild(docLink);\n",
              "        }\n",
              "      </script>\n",
              "    </div>\n",
              "  </div>\n",
              "  "
            ]
          },
          "metadata": {},
          "execution_count": 92
        }
      ]
    },
    {
      "cell_type": "code",
      "source": [
        "initial_purchases['the_date'].min()"
      ],
      "metadata": {
        "colab": {
          "base_uri": "https://localhost:8080/"
        },
        "id": "rkMx-uERl13P",
        "outputId": "7add887b-bd16-424a-b99b-4447422dfb67"
      },
      "execution_count": 93,
      "outputs": [
        {
          "output_type": "execute_result",
          "data": {
            "text/plain": [
              "Timestamp('1997-01-01 00:00:00')"
            ]
          },
          "metadata": {},
          "execution_count": 93
        }
      ]
    },
    {
      "cell_type": "code",
      "source": [
        "initial_purchases['the_date'].max()"
      ],
      "metadata": {
        "colab": {
          "base_uri": "https://localhost:8080/"
        },
        "id": "12aDxCcvmXVN",
        "outputId": "cd4d75ee-9cdd-4192-c417-41970ff36b8c"
      },
      "execution_count": 94,
      "outputs": [
        {
          "output_type": "execute_result",
          "data": {
            "text/plain": [
              "Timestamp('1998-11-28 00:00:00')"
            ]
          },
          "metadata": {},
          "execution_count": 94
        }
      ]
    },
    {
      "cell_type": "code",
      "source": [
        "d=fdata"
      ],
      "metadata": {
        "id": "IE6g6a5YmcjH"
      },
      "execution_count": 95,
      "outputs": []
    },
    {
      "cell_type": "code",
      "source": [
        "d\\\n",
        "  .reset_index()\\\n",
        "  .set_index('the_date')\\\n",
        "  [['store_sales']]\\\n",
        "  .resample(\n",
        "      rule=\"MS\"\n",
        "  )\\\n",
        "  .sum()\\\n",
        "  .plot()"
      ],
      "metadata": {
        "colab": {
          "base_uri": "https://localhost:8080/",
          "height": 309
        },
        "id": "R11d5wHLnTHd",
        "outputId": "9146a5f7-d4c4-4ce1-bea4-51235aeceacf"
      },
      "execution_count": 96,
      "outputs": [
        {
          "output_type": "execute_result",
          "data": {
            "text/plain": [
              "<matplotlib.axes._subplots.AxesSubplot at 0x7f7979c81710>"
            ]
          },
          "metadata": {},
          "execution_count": 96
        },
        {
          "output_type": "display_data",
          "data": {
            "text/plain": [
              "<Figure size 432x288 with 1 Axes>"
            ],
            "image/png": "[encoded data removed]"
          },
          "metadata": {
            "needs_background": "light"
          }
        }
      ]
    },
    {
      "cell_type": "markdown",
      "source": [
        "In the above graph you can see the purchasing behaviour of our local store. "
      ],
      "metadata": {
        "id": "P23hMN3roxfp"
      }
    },
    {
      "cell_type": "code",
      "source": [
        "ids=d['customer_id'].unique()"
      ],
      "metadata": {
        "id": "UpQ8MHLgni1C"
      },
      "execution_count": 97,
      "outputs": []
    },
    {
      "cell_type": "code",
      "source": [
        "ids.size"
      ],
      "metadata": {
        "colab": {
          "base_uri": "https://localhost:8080/"
        },
        "id": "COWMaR2KqDJx",
        "outputId": "cd2d716f-30e4-4cef-b170-7f4c36a59ea8"
      },
      "execution_count": 98,
      "outputs": [
        {
          "output_type": "execute_result",
          "data": {
            "text/plain": [
              "8736"
            ]
          },
          "metadata": {},
          "execution_count": 98
        }
      ]
    },
    {
      "cell_type": "code",
      "source": [
        "ids_select=ids[0:10]"
      ],
      "metadata": {
        "id": "XE_cGz8dqEDX"
      },
      "execution_count": 99,
      "outputs": []
    },
    {
      "cell_type": "code",
      "source": [
        "ids_select.size"
      ],
      "metadata": {
        "colab": {
          "base_uri": "https://localhost:8080/"
        },
        "id": "76jBZmJ2qMXU",
        "outputId": "0ed33aa7-06e6-4bb0-f4a7-dcc2eba2f50f"
      },
      "execution_count": 100,
      "outputs": [
        {
          "output_type": "execute_result",
          "data": {
            "text/plain": [
              "10"
            ]
          },
          "metadata": {},
          "execution_count": 100
        }
      ]
    },
    {
      "cell_type": "code",
      "source": [
        "nd=fdata\\\n",
        "  [fdata['customer_id'].isin(ids_select)]\\\n",
        "  .groupby(['customer_id','the_date'])\\\n",
        "  .sum()\\\n",
        "  .reset_index()"
      ],
      "metadata": {
        "id": "b9Ts4hLMqOln"
      },
      "execution_count": 101,
      "outputs": []
    },
    {
      "cell_type": "code",
      "source": [
        "from pandas.core import groupby\n",
        "pn.ggplot(\n",
        "    pn.aes('the_date','store_sales', group='customer_id'),\n",
        "    data=nd\n",
        ")\\\n",
        "    +pn.geom_line()\\\n",
        "    +pn.geom_point()\\\n",
        "    +pn.facet_wrap('customer_id')\\\n",
        "    +pn.scale_x_date(\n",
        "        date_breaks=\"1 year\",\n",
        "        date_labels=\"%Y\"\n",
        "    )"
      ],
      "metadata": {
        "colab": {
          "base_uri": "https://localhost:8080/",
          "height": 1000
        },
        "id": "OSNpDSCtyBEf",
        "outputId": "200832af-c245-4510-b221-f76bdf3ec0e8"
      },
      "execution_count": 102,
      "outputs": [
        {
          "output_type": "display_data",
          "data": {
            "text/plain": [
              "<Figure size 1920x1440 with 10 Axes>"
            ],
            "image/png": "[encoded data removed]"
          },
          "metadata": {}
        },
        {
          "output_type": "execute_result",
          "data": {
            "text/plain": [
              "<ggplot: (8759973218665)>"
            ]
          },
          "metadata": {},
          "execution_count": 102
        }
      ]
    },
    {
      "cell_type": "markdown",
      "source": [
        "Machine Learnings\n"
      ],
      "metadata": {
        "id": "Sn_GUvUj0ikv"
      }
    },
    {
      "cell_type": "markdown",
      "source": [
        "Time-Spliting"
      ],
      "metadata": {
        "id": "gSq4B-JR1WcJ"
      }
    },
    {
      "cell_type": "code",
      "source": [
        "fdata.plot(x='the_date',  y='store_sales')"
      ],
      "metadata": {
        "colab": {
          "base_uri": "https://localhost:8080/",
          "height": 295
        },
        "id": "XSrHrUzFwhCn",
        "outputId": "ac1c1c0b-a5f5-4e87-dd1d-8f64725b9d91"
      },
      "execution_count": 103,
      "outputs": [
        {
          "output_type": "execute_result",
          "data": {
            "text/plain": [
              "<matplotlib.axes._subplots.AxesSubplot at 0x7f7971785350>"
            ]
          },
          "metadata": {},
          "execution_count": 103
        },
        {
          "output_type": "display_data",
          "data": {
            "text/plain": [
              "<Figure size 432x288 with 1 Axes>"
            ],
            "image/png": "[encoded data removed]"
          },
          "metadata": {
            "needs_background": "light"
          }
        }
      ]
    },
    {
      "cell_type": "code",
      "source": [
        "n_days=90\n",
        "max_date=fdata['the_date'].max()\n",
        "cutoff=max_date-pd.to_timedelta(n_days,unit=\"d\")"
      ],
      "metadata": {
        "id": "Y8_t0Rf5zEWq"
      },
      "execution_count": 104,
      "outputs": []
    },
    {
      "cell_type": "code",
      "source": [
        "#training dataset\n",
        "temp_indata=fdata\\\n",
        "  [fdata['the_date']<=cutoff]\n",
        "\n",
        "#testing dataset\n",
        "temp_outdata=fdata\\\n",
        "  [fdata['the_date']>cutoff]"
      ],
      "metadata": {
        "id": "qwUT1ZM51kxI"
      },
      "execution_count": 105,
      "outputs": []
    },
    {
      "cell_type": "markdown",
      "source": [
        "\n",
        "Now we do RFM (Feature Engineering)\n"
      ],
      "metadata": {
        "id": "sCyve5ur2msr"
      }
    },
    {
      "cell_type": "markdown",
      "source": [
        "Make Targets from out data"
      ],
      "metadata": {
        "id": "H9e-_w8l6n69"
      }
    },
    {
      "cell_type": "code",
      "source": [
        "target=temp_outdata\\\n",
        "  .drop('unit_sales', axis=1)\\\n",
        "  .groupby('customer_id')\\\n",
        "  .sum()\\\n",
        "  .rename({'store_sales': 'spend_90_total'}, axis=1)\\\n",
        "  .assign(spend_90_flag=1)"
      ],
      "metadata": {
        "id": "mAI1-kjq2Q5V"
      },
      "execution_count": 106,
      "outputs": []
    },
    {
      "cell_type": "code",
      "source": [
        "target\n"
      ],
      "metadata": {
        "colab": {
          "base_uri": "https://localhost:8080/",
          "height": 455
        },
        "id": "EnM2aj6K559L",
        "outputId": "7a7429c8-b41e-473f-db82-3426077003ce"
      },
      "execution_count": 107,
      "outputs": [
        {
          "output_type": "execute_result",
          "data": {
            "text/plain": [
              "             spend_90_total  spend_90_flag\n",
              "customer_id                               \n",
              "8                    146.54              1\n",
              "9                     49.41              1\n",
              "20                   133.14              1\n",
              "21                    25.50              1\n",
              "24                    45.09              1\n",
              "...                     ...            ...\n",
              "10263                 74.42              1\n",
              "10271                120.61              1\n",
              "10273                 70.35              1\n",
              "10277                140.48              1\n",
              "10280                 59.45              1\n",
              "\n",
              "[4825 rows x 2 columns]"
            ],
            "text/html": [
              "\n",
              "  <div id=\"df-e75f54c8-b5f9-49da-9a23-6b2f46bcfe09\">\n",
              "    <div class=\"colab-df-container\">\n",
              "      <div>\n",
              "<style scoped>\n",
              "    .dataframe tbody tr th:only-of-type {\n",
              "        vertical-align: middle;\n",
              "    }\n",
              "\n",
              "    .dataframe tbody tr th {\n",
              "        vertical-align: top;\n",
              "    }\n",
              "\n",
              "    .dataframe thead th {\n",
              "        text-align: right;\n",
              "    }\n",
              "</style>\n",
              "<table border=\"1\" class=\"dataframe\">\n",
              "  <thead>\n",
              "    <tr style=\"text-align: right;\">\n",
              "      <th></th>\n",
              "      <th>spend_90_total</th>\n",
              "      <th>spend_90_flag</th>\n",
              "    </tr>\n",
              "    <tr>\n",
              "      <th>customer_id</th>\n",
              "      <th></th>\n",
              "      <th></th>\n",
              "    </tr>\n",
              "  </thead>\n",
              "  <tbody>\n",
              "    <tr>\n",
              "      <th>8</th>\n",
              "      <td>146.54</td>\n",
              "      <td>1</td>\n",
              "    </tr>\n",
              "    <tr>\n",
              "      <th>9</th>\n",
              "      <td>49.41</td>\n",
              "      <td>1</td>\n",
              "    </tr>\n",
              "    <tr>\n",
              "      <th>20</th>\n",
              "      <td>133.14</td>\n",
              "      <td>1</td>\n",
              "    </tr>\n",
              "    <tr>\n",
              "      <th>21</th>\n",
              "      <td>25.50</td>\n",
              "      <td>1</td>\n",
              "    </tr>\n",
              "    <tr>\n",
              "      <th>24</th>\n",
              "      <td>45.09</td>\n",
              "      <td>1</td>\n",
              "    </tr>\n",
              "    <tr>\n",
              "      <th>...</th>\n",
              "      <td>...</td>\n",
              "      <td>...</td>\n",
              "    </tr>\n",
              "    <tr>\n",
              "      <th>10263</th>\n",
              "      <td>74.42</td>\n",
              "      <td>1</td>\n",
              "    </tr>\n",
              "    <tr>\n",
              "      <th>10271</th>\n",
              "      <td>120.61</td>\n",
              "      <td>1</td>\n",
              "    </tr>\n",
              "    <tr>\n",
              "      <th>10273</th>\n",
              "      <td>70.35</td>\n",
              "      <td>1</td>\n",
              "    </tr>\n",
              "    <tr>\n",
              "      <th>10277</th>\n",
              "      <td>140.48</td>\n",
              "      <td>1</td>\n",
              "    </tr>\n",
              "    <tr>\n",
              "      <th>10280</th>\n",
              "      <td>59.45</td>\n",
              "      <td>1</td>\n",
              "    </tr>\n",
              "  </tbody>\n",
              "</table>\n",
              "<p>4825 rows × 2 columns</p>\n",
              "</div>\n",
              "      <button class=\"colab-df-convert\" onclick=\"convertToInteractive('df-e75f54c8-b5f9-49da-9a23-6b2f46bcfe09')\"\n",
              "              title=\"Convert this dataframe to an interactive table.\"\n",
              "              style=\"display:none;\">\n",
              "        \n",
              "  <svg xmlns=\"http://www.w3.org/2000/svg\" height=\"24px\"viewBox=\"0 0 24 24\"\n",
              "       width=\"24px\">\n",
              "    <path d=\"M0 0h24v24H0V0z\" fill=\"none\"/>\n",
              "    <path d=\"M18.56 5.44l.94 2.06.94-2.06 2.06-.94-2.06-.94-.94-2.06-.94 2.06-2.06.94zm-11 1L8.5 8.5l.94-2.06 2.06-.94-2.06-.94L8.5 2.5l-.94 2.06-2.06.94zm10 10l.94 2.06.94-2.06 2.06-.94-2.06-.94-.94-2.06-.94 2.06-2.06.94z\"/><path d=\"M17.41 7.96l-1.37-1.37c-.4-.4-.92-.59-1.43-.59-.52 0-1.04.2-1.43.59L10.3 9.45l-7.72 7.72c-.78.78-.78 2.05 0 2.83L4 21.41c.39.39.9.59 1.41.59.51 0 1.02-.2 1.41-.59l7.78-7.78 2.81-2.81c.8-.78.8-2.07 0-2.86zM5.41 20L4 18.59l7.72-7.72 1.47 1.35L5.41 20z\"/>\n",
              "  </svg>\n",
              "      </button>\n",
              "      \n",
              "  <style>\n",
              "    .colab-df-container {\n",
              "      display:flex;\n",
              "      flex-wrap:wrap;\n",
              "      gap: 12px;\n",
              "    }\n",
              "\n",
              "    .colab-df-convert {\n",
              "      background-color: #E8F0FE;\n",
              "      border: none;\n",
              "      border-radius: 50%;\n",
              "      cursor: pointer;\n",
              "      display: none;\n",
              "      fill: #1967D2;\n",
              "      height: 32px;\n",
              "      padding: 0 0 0 0;\n",
              "      width: 32px;\n",
              "    }\n",
              "\n",
              "    .colab-df-convert:hover {\n",
              "      background-color: #E2EBFA;\n",
              "      box-shadow: 0px 1px 2px rgba(60, 64, 67, 0.3), 0px 1px 3px 1px rgba(60, 64, 67, 0.15);\n",
              "      fill: #174EA6;\n",
              "    }\n",
              "\n",
              "    [theme=dark] .colab-df-convert {\n",
              "      background-color: #3B4455;\n",
              "      fill: #D2E3FC;\n",
              "    }\n",
              "\n",
              "    [theme=dark] .colab-df-convert:hover {\n",
              "      background-color: #434B5C;\n",
              "      box-shadow: 0px 1px 3px 1px rgba(0, 0, 0, 0.15);\n",
              "      filter: drop-shadow(0px 1px 2px rgba(0, 0, 0, 0.3));\n",
              "      fill: #FFFFFF;\n",
              "    }\n",
              "  </style>\n",
              "\n",
              "      <script>\n",
              "        const buttonEl =\n",
              "          document.querySelector('#df-e75f54c8-b5f9-49da-9a23-6b2f46bcfe09 button.colab-df-convert');\n",
              "        buttonEl.style.display =\n",
              "          google.colab.kernel.accessAllowed ? 'block' : 'none';\n",
              "\n",
              "        async function convertToInteractive(key) {\n",
              "          const element = document.querySelector('#df-e75f54c8-b5f9-49da-9a23-6b2f46bcfe09');\n",
              "          const dataTable =\n",
              "            await google.colab.kernel.invokeFunction('convertToInteractive',\n",
              "                                                     [key], {});\n",
              "          if (!dataTable) return;\n",
              "\n",
              "          const docLinkHtml = 'Like what you see? Visit the ' +\n",
              "            '<a target=\"_blank\" href=https://colab.research.google.com/notebooks/data_table.ipynb>data table notebook</a>'\n",
              "            + ' to learn more about interactive tables.';\n",
              "          element.innerHTML = '';\n",
              "          dataTable['output_type'] = 'display_data';\n",
              "          await google.colab.output.renderOutput(dataTable, element);\n",
              "          const docLink = document.createElement('div');\n",
              "          docLink.innerHTML = docLinkHtml;\n",
              "          element.appendChild(docLink);\n",
              "        }\n",
              "      </script>\n",
              "    </div>\n",
              "  </div>\n",
              "  "
            ]
          },
          "metadata": {},
          "execution_count": 107
        }
      ]
    },
    {
      "cell_type": "markdown",
      "source": [
        "from the above table we can see that in the specified period only 4825 customers have spend "
      ],
      "metadata": {
        "id": "_mQli3bK6Ukx"
      }
    },
    {
      "cell_type": "markdown",
      "source": [
        "Make Recency (Date) Features from in data"
      ],
      "metadata": {
        "id": "NMafhUX26rys"
      }
    },
    {
      "cell_type": "code",
      "source": [
        "max_date=temp_indata['the_date'].max()\n",
        "recency_feature=temp_indata\\\n",
        "  [['customer_id','the_date']]\\\n",
        "  .groupby('customer_id')\\\n",
        "  .apply(\n",
        "      lambda x: (x['the_date'].max()-max_date)/ pd.to_timedelta(1,\"day\")\n",
        "  )\\\n",
        "  .to_frame()\\\n",
        "  .set_axis([\"recency\"], axis=1)\n",
        "\n",
        "recency_feature\n",
        "\n",
        "  \n",
        "#tells how recent there purchases were, for example customer-id=3 has done its last purchase 137 days back from the max date \n",
        "\n"
      ],
      "metadata": {
        "colab": {
          "base_uri": "https://localhost:8080/",
          "height": 455
        },
        "id": "VPWZF4976DjM",
        "outputId": "fae937e7-16d3-43eb-cfe2-f6667efc2eed"
      },
      "execution_count": 108,
      "outputs": [
        {
          "output_type": "execute_result",
          "data": {
            "text/plain": [
              "             recency\n",
              "customer_id         \n",
              "3             -137.0\n",
              "5             -605.0\n",
              "6              -68.0\n",
              "8              -46.0\n",
              "9             -127.0\n",
              "...              ...\n",
              "10275          -58.0\n",
              "10277         -159.0\n",
              "10278         -126.0\n",
              "10280           -9.0\n",
              "10281          -31.0\n",
              "\n",
              "[8426 rows x 1 columns]"
            ],
            "text/html": [
              "\n",
              "  <div id=\"df-143d6080-c880-4581-a29d-2bd1d961f285\">\n",
              "    <div class=\"colab-df-container\">\n",
              "      <div>\n",
              "<style scoped>\n",
              "    .dataframe tbody tr th:only-of-type {\n",
              "        vertical-align: middle;\n",
              "    }\n",
              "\n",
              "    .dataframe tbody tr th {\n",
              "        vertical-align: top;\n",
              "    }\n",
              "\n",
              "    .dataframe thead th {\n",
              "        text-align: right;\n",
              "    }\n",
              "</style>\n",
              "<table border=\"1\" class=\"dataframe\">\n",
              "  <thead>\n",
              "    <tr style=\"text-align: right;\">\n",
              "      <th></th>\n",
              "      <th>recency</th>\n",
              "    </tr>\n",
              "    <tr>\n",
              "      <th>customer_id</th>\n",
              "      <th></th>\n",
              "    </tr>\n",
              "  </thead>\n",
              "  <tbody>\n",
              "    <tr>\n",
              "      <th>3</th>\n",
              "      <td>-137.0</td>\n",
              "    </tr>\n",
              "    <tr>\n",
              "      <th>5</th>\n",
              "      <td>-605.0</td>\n",
              "    </tr>\n",
              "    <tr>\n",
              "      <th>6</th>\n",
              "      <td>-68.0</td>\n",
              "    </tr>\n",
              "    <tr>\n",
              "      <th>8</th>\n",
              "      <td>-46.0</td>\n",
              "    </tr>\n",
              "    <tr>\n",
              "      <th>9</th>\n",
              "      <td>-127.0</td>\n",
              "    </tr>\n",
              "    <tr>\n",
              "      <th>...</th>\n",
              "      <td>...</td>\n",
              "    </tr>\n",
              "    <tr>\n",
              "      <th>10275</th>\n",
              "      <td>-58.0</td>\n",
              "    </tr>\n",
              "    <tr>\n",
              "      <th>10277</th>\n",
              "      <td>-159.0</td>\n",
              "    </tr>\n",
              "    <tr>\n",
              "      <th>10278</th>\n",
              "      <td>-126.0</td>\n",
              "    </tr>\n",
              "    <tr>\n",
              "      <th>10280</th>\n",
              "      <td>-9.0</td>\n",
              "    </tr>\n",
              "    <tr>\n",
              "      <th>10281</th>\n",
              "      <td>-31.0</td>\n",
              "    </tr>\n",
              "  </tbody>\n",
              "</table>\n",
              "<p>8426 rows × 1 columns</p>\n",
              "</div>\n",
              "      <button class=\"colab-df-convert\" onclick=\"convertToInteractive('df-143d6080-c880-4581-a29d-2bd1d961f285')\"\n",
              "              title=\"Convert this dataframe to an interactive table.\"\n",
              "              style=\"display:none;\">\n",
              "        \n",
              "  <svg xmlns=\"http://www.w3.org/2000/svg\" height=\"24px\"viewBox=\"0 0 24 24\"\n",
              "       width=\"24px\">\n",
              "    <path d=\"M0 0h24v24H0V0z\" fill=\"none\"/>\n",
              "    <path d=\"M18.56 5.44l.94 2.06.94-2.06 2.06-.94-2.06-.94-.94-2.06-.94 2.06-2.06.94zm-11 1L8.5 8.5l.94-2.06 2.06-.94-2.06-.94L8.5 2.5l-.94 2.06-2.06.94zm10 10l.94 2.06.94-2.06 2.06-.94-2.06-.94-.94-2.06-.94 2.06-2.06.94z\"/><path d=\"M17.41 7.96l-1.37-1.37c-.4-.4-.92-.59-1.43-.59-.52 0-1.04.2-1.43.59L10.3 9.45l-7.72 7.72c-.78.78-.78 2.05 0 2.83L4 21.41c.39.39.9.59 1.41.59.51 0 1.02-.2 1.41-.59l7.78-7.78 2.81-2.81c.8-.78.8-2.07 0-2.86zM5.41 20L4 18.59l7.72-7.72 1.47 1.35L5.41 20z\"/>\n",
              "  </svg>\n",
              "      </button>\n",
              "      \n",
              "  <style>\n",
              "    .colab-df-container {\n",
              "      display:flex;\n",
              "      flex-wrap:wrap;\n",
              "      gap: 12px;\n",
              "    }\n",
              "\n",
              "    .colab-df-convert {\n",
              "      background-color: #E8F0FE;\n",
              "      border: none;\n",
              "      border-radius: 50%;\n",
              "      cursor: pointer;\n",
              "      display: none;\n",
              "      fill: #1967D2;\n",
              "      height: 32px;\n",
              "      padding: 0 0 0 0;\n",
              "      width: 32px;\n",
              "    }\n",
              "\n",
              "    .colab-df-convert:hover {\n",
              "      background-color: #E2EBFA;\n",
              "      box-shadow: 0px 1px 2px rgba(60, 64, 67, 0.3), 0px 1px 3px 1px rgba(60, 64, 67, 0.15);\n",
              "      fill: #174EA6;\n",
              "    }\n",
              "\n",
              "    [theme=dark] .colab-df-convert {\n",
              "      background-color: #3B4455;\n",
              "      fill: #D2E3FC;\n",
              "    }\n",
              "\n",
              "    [theme=dark] .colab-df-convert:hover {\n",
              "      background-color: #434B5C;\n",
              "      box-shadow: 0px 1px 3px 1px rgba(0, 0, 0, 0.15);\n",
              "      filter: drop-shadow(0px 1px 2px rgba(0, 0, 0, 0.3));\n",
              "      fill: #FFFFFF;\n",
              "    }\n",
              "  </style>\n",
              "\n",
              "      <script>\n",
              "        const buttonEl =\n",
              "          document.querySelector('#df-143d6080-c880-4581-a29d-2bd1d961f285 button.colab-df-convert');\n",
              "        buttonEl.style.display =\n",
              "          google.colab.kernel.accessAllowed ? 'block' : 'none';\n",
              "\n",
              "        async function convertToInteractive(key) {\n",
              "          const element = document.querySelector('#df-143d6080-c880-4581-a29d-2bd1d961f285');\n",
              "          const dataTable =\n",
              "            await google.colab.kernel.invokeFunction('convertToInteractive',\n",
              "                                                     [key], {});\n",
              "          if (!dataTable) return;\n",
              "\n",
              "          const docLinkHtml = 'Like what you see? Visit the ' +\n",
              "            '<a target=\"_blank\" href=https://colab.research.google.com/notebooks/data_table.ipynb>data table notebook</a>'\n",
              "            + ' to learn more about interactive tables.';\n",
              "          element.innerHTML = '';\n",
              "          dataTable['output_type'] = 'display_data';\n",
              "          await google.colab.output.renderOutput(dataTable, element);\n",
              "          const docLink = document.createElement('div');\n",
              "          docLink.innerHTML = docLinkHtml;\n",
              "          element.appendChild(docLink);\n",
              "        }\n",
              "      </script>\n",
              "    </div>\n",
              "  </div>\n",
              "  "
            ]
          },
          "metadata": {},
          "execution_count": 108
        }
      ]
    },
    {
      "cell_type": "markdown",
      "source": [
        "Make frequency (Count) Features from in data"
      ],
      "metadata": {
        "id": "z8Fd2ASZ9Dh0"
      }
    },
    {
      "cell_type": "code",
      "source": [
        "frequency_feature=temp_indata\\\n",
        "  [['customer_id', 'the_date']]\\\n",
        "  .groupby('customer_id')\\\n",
        "  .count()\\\n",
        "  .set_axis(['frequency'], axis=1)\n",
        "\n",
        "frequency_feature\n"
      ],
      "metadata": {
        "colab": {
          "base_uri": "https://localhost:8080/",
          "height": 455
        },
        "id": "hfupbofF7fjx",
        "outputId": "b6c4a077-149a-4bb5-e264-a73cc8fa4ecf"
      },
      "execution_count": 109,
      "outputs": [
        {
          "output_type": "execute_result",
          "data": {
            "text/plain": [
              "             frequency\n",
              "customer_id           \n",
              "3                   30\n",
              "5                    1\n",
              "6                   12\n",
              "8                   19\n",
              "9                    7\n",
              "...                ...\n",
              "10275               22\n",
              "10277                9\n",
              "10278               28\n",
              "10280               28\n",
              "10281               22\n",
              "\n",
              "[8426 rows x 1 columns]"
            ],
            "text/html": [
              "\n",
              "  <div id=\"df-791cb14b-5123-41d6-a7e7-260dcaa4006d\">\n",
              "    <div class=\"colab-df-container\">\n",
              "      <div>\n",
              "<style scoped>\n",
              "    .dataframe tbody tr th:only-of-type {\n",
              "        vertical-align: middle;\n",
              "    }\n",
              "\n",
              "    .dataframe tbody tr th {\n",
              "        vertical-align: top;\n",
              "    }\n",
              "\n",
              "    .dataframe thead th {\n",
              "        text-align: right;\n",
              "    }\n",
              "</style>\n",
              "<table border=\"1\" class=\"dataframe\">\n",
              "  <thead>\n",
              "    <tr style=\"text-align: right;\">\n",
              "      <th></th>\n",
              "      <th>frequency</th>\n",
              "    </tr>\n",
              "    <tr>\n",
              "      <th>customer_id</th>\n",
              "      <th></th>\n",
              "    </tr>\n",
              "  </thead>\n",
              "  <tbody>\n",
              "    <tr>\n",
              "      <th>3</th>\n",
              "      <td>30</td>\n",
              "    </tr>\n",
              "    <tr>\n",
              "      <th>5</th>\n",
              "      <td>1</td>\n",
              "    </tr>\n",
              "    <tr>\n",
              "      <th>6</th>\n",
              "      <td>12</td>\n",
              "    </tr>\n",
              "    <tr>\n",
              "      <th>8</th>\n",
              "      <td>19</td>\n",
              "    </tr>\n",
              "    <tr>\n",
              "      <th>9</th>\n",
              "      <td>7</td>\n",
              "    </tr>\n",
              "    <tr>\n",
              "      <th>...</th>\n",
              "      <td>...</td>\n",
              "    </tr>\n",
              "    <tr>\n",
              "      <th>10275</th>\n",
              "      <td>22</td>\n",
              "    </tr>\n",
              "    <tr>\n",
              "      <th>10277</th>\n",
              "      <td>9</td>\n",
              "    </tr>\n",
              "    <tr>\n",
              "      <th>10278</th>\n",
              "      <td>28</td>\n",
              "    </tr>\n",
              "    <tr>\n",
              "      <th>10280</th>\n",
              "      <td>28</td>\n",
              "    </tr>\n",
              "    <tr>\n",
              "      <th>10281</th>\n",
              "      <td>22</td>\n",
              "    </tr>\n",
              "  </tbody>\n",
              "</table>\n",
              "<p>8426 rows × 1 columns</p>\n",
              "</div>\n",
              "      <button class=\"colab-df-convert\" onclick=\"convertToInteractive('df-791cb14b-5123-41d6-a7e7-260dcaa4006d')\"\n",
              "              title=\"Convert this dataframe to an interactive table.\"\n",
              "              style=\"display:none;\">\n",
              "        \n",
              "  <svg xmlns=\"http://www.w3.org/2000/svg\" height=\"24px\"viewBox=\"0 0 24 24\"\n",
              "       width=\"24px\">\n",
              "    <path d=\"M0 0h24v24H0V0z\" fill=\"none\"/>\n",
              "    <path d=\"M18.56 5.44l.94 2.06.94-2.06 2.06-.94-2.06-.94-.94-2.06-.94 2.06-2.06.94zm-11 1L8.5 8.5l.94-2.06 2.06-.94-2.06-.94L8.5 2.5l-.94 2.06-2.06.94zm10 10l.94 2.06.94-2.06 2.06-.94-2.06-.94-.94-2.06-.94 2.06-2.06.94z\"/><path d=\"M17.41 7.96l-1.37-1.37c-.4-.4-.92-.59-1.43-.59-.52 0-1.04.2-1.43.59L10.3 9.45l-7.72 7.72c-.78.78-.78 2.05 0 2.83L4 21.41c.39.39.9.59 1.41.59.51 0 1.02-.2 1.41-.59l7.78-7.78 2.81-2.81c.8-.78.8-2.07 0-2.86zM5.41 20L4 18.59l7.72-7.72 1.47 1.35L5.41 20z\"/>\n",
              "  </svg>\n",
              "      </button>\n",
              "      \n",
              "  <style>\n",
              "    .colab-df-container {\n",
              "      display:flex;\n",
              "      flex-wrap:wrap;\n",
              "      gap: 12px;\n",
              "    }\n",
              "\n",
              "    .colab-df-convert {\n",
              "      background-color: #E8F0FE;\n",
              "      border: none;\n",
              "      border-radius: 50%;\n",
              "      cursor: pointer;\n",
              "      display: none;\n",
              "      fill: #1967D2;\n",
              "      height: 32px;\n",
              "      padding: 0 0 0 0;\n",
              "      width: 32px;\n",
              "    }\n",
              "\n",
              "    .colab-df-convert:hover {\n",
              "      background-color: #E2EBFA;\n",
              "      box-shadow: 0px 1px 2px rgba(60, 64, 67, 0.3), 0px 1px 3px 1px rgba(60, 64, 67, 0.15);\n",
              "      fill: #174EA6;\n",
              "    }\n",
              "\n",
              "    [theme=dark] .colab-df-convert {\n",
              "      background-color: #3B4455;\n",
              "      fill: #D2E3FC;\n",
              "    }\n",
              "\n",
              "    [theme=dark] .colab-df-convert:hover {\n",
              "      background-color: #434B5C;\n",
              "      box-shadow: 0px 1px 3px 1px rgba(0, 0, 0, 0.15);\n",
              "      filter: drop-shadow(0px 1px 2px rgba(0, 0, 0, 0.3));\n",
              "      fill: #FFFFFF;\n",
              "    }\n",
              "  </style>\n",
              "\n",
              "      <script>\n",
              "        const buttonEl =\n",
              "          document.querySelector('#df-791cb14b-5123-41d6-a7e7-260dcaa4006d button.colab-df-convert');\n",
              "        buttonEl.style.display =\n",
              "          google.colab.kernel.accessAllowed ? 'block' : 'none';\n",
              "\n",
              "        async function convertToInteractive(key) {\n",
              "          const element = document.querySelector('#df-791cb14b-5123-41d6-a7e7-260dcaa4006d');\n",
              "          const dataTable =\n",
              "            await google.colab.kernel.invokeFunction('convertToInteractive',\n",
              "                                                     [key], {});\n",
              "          if (!dataTable) return;\n",
              "\n",
              "          const docLinkHtml = 'Like what you see? Visit the ' +\n",
              "            '<a target=\"_blank\" href=https://colab.research.google.com/notebooks/data_table.ipynb>data table notebook</a>'\n",
              "            + ' to learn more about interactive tables.';\n",
              "          element.innerHTML = '';\n",
              "          dataTable['output_type'] = 'display_data';\n",
              "          await google.colab.output.renderOutput(dataTable, element);\n",
              "          const docLink = document.createElement('div');\n",
              "          docLink.innerHTML = docLinkHtml;\n",
              "          element.appendChild(docLink);\n",
              "        }\n",
              "      </script>\n",
              "    </div>\n",
              "  </div>\n",
              "  "
            ]
          },
          "metadata": {},
          "execution_count": 109
        }
      ]
    },
    {
      "cell_type": "markdown",
      "source": [
        "Make Price (Monetary) Features from in data"
      ],
      "metadata": {
        "id": "lQRC19ez-IUE"
      }
    },
    {
      "cell_type": "code",
      "source": [
        "price_feature=temp_indata\\\n",
        "  .groupby('customer_id')\\\n",
        "  .aggregate(\n",
        "      {\n",
        "          'store_sales': [\"sum\", \"mean\"]\n",
        "      }\n",
        "  )\\\n",
        "  .set_axis(['sales_sum','sales_mean'], axis=1)\n",
        "\n",
        "price_feature"
      ],
      "metadata": {
        "colab": {
          "base_uri": "https://localhost:8080/",
          "height": 455
        },
        "id": "P8NCu2xH7tK3",
        "outputId": "c2cc53ef-c202-4aa3-892d-281f18f6b11e"
      },
      "execution_count": 110,
      "outputs": [
        {
          "output_type": "execute_result",
          "data": {
            "text/plain": [
              "             sales_sum  sales_mean\n",
              "customer_id                       \n",
              "3               203.17    6.772333\n",
              "5                 1.08    1.080000\n",
              "6               112.74    9.395000\n",
              "8               112.60    5.926316\n",
              "9                40.17    5.738571\n",
              "...                ...         ...\n",
              "10275           157.30    7.150000\n",
              "10277            89.86    9.984444\n",
              "10278           167.24    5.972857\n",
              "10280           173.32    6.190000\n",
              "10281           246.90   11.222727\n",
              "\n",
              "[8426 rows x 2 columns]"
            ],
            "text/html": [
              "\n",
              "  <div id=\"df-963cc952-f1c9-43f9-9855-b51db762a143\">\n",
              "    <div class=\"colab-df-container\">\n",
              "      <div>\n",
              "<style scoped>\n",
              "    .dataframe tbody tr th:only-of-type {\n",
              "        vertical-align: middle;\n",
              "    }\n",
              "\n",
              "    .dataframe tbody tr th {\n",
              "        vertical-align: top;\n",
              "    }\n",
              "\n",
              "    .dataframe thead th {\n",
              "        text-align: right;\n",
              "    }\n",
              "</style>\n",
              "<table border=\"1\" class=\"dataframe\">\n",
              "  <thead>\n",
              "    <tr style=\"text-align: right;\">\n",
              "      <th></th>\n",
              "      <th>sales_sum</th>\n",
              "      <th>sales_mean</th>\n",
              "    </tr>\n",
              "    <tr>\n",
              "      <th>customer_id</th>\n",
              "      <th></th>\n",
              "      <th></th>\n",
              "    </tr>\n",
              "  </thead>\n",
              "  <tbody>\n",
              "    <tr>\n",
              "      <th>3</th>\n",
              "      <td>203.17</td>\n",
              "      <td>6.772333</td>\n",
              "    </tr>\n",
              "    <tr>\n",
              "      <th>5</th>\n",
              "      <td>1.08</td>\n",
              "      <td>1.080000</td>\n",
              "    </tr>\n",
              "    <tr>\n",
              "      <th>6</th>\n",
              "      <td>112.74</td>\n",
              "      <td>9.395000</td>\n",
              "    </tr>\n",
              "    <tr>\n",
              "      <th>8</th>\n",
              "      <td>112.60</td>\n",
              "      <td>5.926316</td>\n",
              "    </tr>\n",
              "    <tr>\n",
              "      <th>9</th>\n",
              "      <td>40.17</td>\n",
              "      <td>5.738571</td>\n",
              "    </tr>\n",
              "    <tr>\n",
              "      <th>...</th>\n",
              "      <td>...</td>\n",
              "      <td>...</td>\n",
              "    </tr>\n",
              "    <tr>\n",
              "      <th>10275</th>\n",
              "      <td>157.30</td>\n",
              "      <td>7.150000</td>\n",
              "    </tr>\n",
              "    <tr>\n",
              "      <th>10277</th>\n",
              "      <td>89.86</td>\n",
              "      <td>9.984444</td>\n",
              "    </tr>\n",
              "    <tr>\n",
              "      <th>10278</th>\n",
              "      <td>167.24</td>\n",
              "      <td>5.972857</td>\n",
              "    </tr>\n",
              "    <tr>\n",
              "      <th>10280</th>\n",
              "      <td>173.32</td>\n",
              "      <td>6.190000</td>\n",
              "    </tr>\n",
              "    <tr>\n",
              "      <th>10281</th>\n",
              "      <td>246.90</td>\n",
              "      <td>11.222727</td>\n",
              "    </tr>\n",
              "  </tbody>\n",
              "</table>\n",
              "<p>8426 rows × 2 columns</p>\n",
              "</div>\n",
              "      <button class=\"colab-df-convert\" onclick=\"convertToInteractive('df-963cc952-f1c9-43f9-9855-b51db762a143')\"\n",
              "              title=\"Convert this dataframe to an interactive table.\"\n",
              "              style=\"display:none;\">\n",
              "        \n",
              "  <svg xmlns=\"http://www.w3.org/2000/svg\" height=\"24px\"viewBox=\"0 0 24 24\"\n",
              "       width=\"24px\">\n",
              "    <path d=\"M0 0h24v24H0V0z\" fill=\"none\"/>\n",
              "    <path d=\"M18.56 5.44l.94 2.06.94-2.06 2.06-.94-2.06-.94-.94-2.06-.94 2.06-2.06.94zm-11 1L8.5 8.5l.94-2.06 2.06-.94-2.06-.94L8.5 2.5l-.94 2.06-2.06.94zm10 10l.94 2.06.94-2.06 2.06-.94-2.06-.94-.94-2.06-.94 2.06-2.06.94z\"/><path d=\"M17.41 7.96l-1.37-1.37c-.4-.4-.92-.59-1.43-.59-.52 0-1.04.2-1.43.59L10.3 9.45l-7.72 7.72c-.78.78-.78 2.05 0 2.83L4 21.41c.39.39.9.59 1.41.59.51 0 1.02-.2 1.41-.59l7.78-7.78 2.81-2.81c.8-.78.8-2.07 0-2.86zM5.41 20L4 18.59l7.72-7.72 1.47 1.35L5.41 20z\"/>\n",
              "  </svg>\n",
              "      </button>\n",
              "      \n",
              "  <style>\n",
              "    .colab-df-container {\n",
              "      display:flex;\n",
              "      flex-wrap:wrap;\n",
              "      gap: 12px;\n",
              "    }\n",
              "\n",
              "    .colab-df-convert {\n",
              "      background-color: #E8F0FE;\n",
              "      border: none;\n",
              "      border-radius: 50%;\n",
              "      cursor: pointer;\n",
              "      display: none;\n",
              "      fill: #1967D2;\n",
              "      height: 32px;\n",
              "      padding: 0 0 0 0;\n",
              "      width: 32px;\n",
              "    }\n",
              "\n",
              "    .colab-df-convert:hover {\n",
              "      background-color: #E2EBFA;\n",
              "      box-shadow: 0px 1px 2px rgba(60, 64, 67, 0.3), 0px 1px 3px 1px rgba(60, 64, 67, 0.15);\n",
              "      fill: #174EA6;\n",
              "    }\n",
              "\n",
              "    [theme=dark] .colab-df-convert {\n",
              "      background-color: #3B4455;\n",
              "      fill: #D2E3FC;\n",
              "    }\n",
              "\n",
              "    [theme=dark] .colab-df-convert:hover {\n",
              "      background-color: #434B5C;\n",
              "      box-shadow: 0px 1px 3px 1px rgba(0, 0, 0, 0.15);\n",
              "      filter: drop-shadow(0px 1px 2px rgba(0, 0, 0, 0.3));\n",
              "      fill: #FFFFFF;\n",
              "    }\n",
              "  </style>\n",
              "\n",
              "      <script>\n",
              "        const buttonEl =\n",
              "          document.querySelector('#df-963cc952-f1c9-43f9-9855-b51db762a143 button.colab-df-convert');\n",
              "        buttonEl.style.display =\n",
              "          google.colab.kernel.accessAllowed ? 'block' : 'none';\n",
              "\n",
              "        async function convertToInteractive(key) {\n",
              "          const element = document.querySelector('#df-963cc952-f1c9-43f9-9855-b51db762a143');\n",
              "          const dataTable =\n",
              "            await google.colab.kernel.invokeFunction('convertToInteractive',\n",
              "                                                     [key], {});\n",
              "          if (!dataTable) return;\n",
              "\n",
              "          const docLinkHtml = 'Like what you see? Visit the ' +\n",
              "            '<a target=\"_blank\" href=https://colab.research.google.com/notebooks/data_table.ipynb>data table notebook</a>'\n",
              "            + ' to learn more about interactive tables.';\n",
              "          element.innerHTML = '';\n",
              "          dataTable['output_type'] = 'display_data';\n",
              "          await google.colab.output.renderOutput(dataTable, element);\n",
              "          const docLink = document.createElement('div');\n",
              "          docLink.innerHTML = docLinkHtml;\n",
              "          element.appendChild(docLink);\n",
              "        }\n",
              "      </script>\n",
              "    </div>\n",
              "  </div>\n",
              "  "
            ]
          },
          "metadata": {},
          "execution_count": 110
        }
      ]
    },
    {
      "cell_type": "markdown",
      "source": [
        "Combine above features"
      ],
      "metadata": {
        "id": "lyvo0Dzy-y60"
      }
    },
    {
      "cell_type": "code",
      "source": [
        "features=pd.concat(\n",
        "    [recency_feature,frequency_feature,price_feature], axis=1\n",
        ")\\\n",
        "  .merge(\n",
        "      target,\n",
        "      left_index=True,\n",
        "      right_index=True,\n",
        "      how=\"left\"\n",
        "  )\\\n",
        "  .fillna(0)\n",
        "features"
      ],
      "metadata": {
        "colab": {
          "base_uri": "https://localhost:8080/",
          "height": 455
        },
        "id": "6-_6H4kh-tZD",
        "outputId": "5f529a11-470a-45f3-9df5-95c9bc14417d"
      },
      "execution_count": 111,
      "outputs": [
        {
          "output_type": "execute_result",
          "data": {
            "text/plain": [
              "             recency  frequency  sales_sum  sales_mean  spend_90_total  \\\n",
              "customer_id                                                              \n",
              "3             -137.0         30     203.17    6.772333            0.00   \n",
              "5             -605.0          1       1.08    1.080000            0.00   \n",
              "6              -68.0         12     112.74    9.395000            0.00   \n",
              "8              -46.0         19     112.60    5.926316          146.54   \n",
              "9             -127.0          7      40.17    5.738571           49.41   \n",
              "...              ...        ...        ...         ...             ...   \n",
              "10275          -58.0         22     157.30    7.150000            0.00   \n",
              "10277         -159.0          9      89.86    9.984444          140.48   \n",
              "10278         -126.0         28     167.24    5.972857            0.00   \n",
              "10280           -9.0         28     173.32    6.190000           59.45   \n",
              "10281          -31.0         22     246.90   11.222727            0.00   \n",
              "\n",
              "             spend_90_flag  \n",
              "customer_id                 \n",
              "3                      0.0  \n",
              "5                      0.0  \n",
              "6                      0.0  \n",
              "8                      1.0  \n",
              "9                      1.0  \n",
              "...                    ...  \n",
              "10275                  0.0  \n",
              "10277                  1.0  \n",
              "10278                  0.0  \n",
              "10280                  1.0  \n",
              "10281                  0.0  \n",
              "\n",
              "[8426 rows x 6 columns]"
            ],
            "text/html": [
              "\n",
              "  <div id=\"df-b9f91207-866d-4172-88f1-a3ffbe510753\">\n",
              "    <div class=\"colab-df-container\">\n",
              "      <div>\n",
              "<style scoped>\n",
              "    .dataframe tbody tr th:only-of-type {\n",
              "        vertical-align: middle;\n",
              "    }\n",
              "\n",
              "    .dataframe tbody tr th {\n",
              "        vertical-align: top;\n",
              "    }\n",
              "\n",
              "    .dataframe thead th {\n",
              "        text-align: right;\n",
              "    }\n",
              "</style>\n",
              "<table border=\"1\" class=\"dataframe\">\n",
              "  <thead>\n",
              "    <tr style=\"text-align: right;\">\n",
              "      <th></th>\n",
              "      <th>recency</th>\n",
              "      <th>frequency</th>\n",
              "      <th>sales_sum</th>\n",
              "      <th>sales_mean</th>\n",
              "      <th>spend_90_total</th>\n",
              "      <th>spend_90_flag</th>\n",
              "    </tr>\n",
              "    <tr>\n",
              "      <th>customer_id</th>\n",
              "      <th></th>\n",
              "      <th></th>\n",
              "      <th></th>\n",
              "      <th></th>\n",
              "      <th></th>\n",
              "      <th></th>\n",
              "    </tr>\n",
              "  </thead>\n",
              "  <tbody>\n",
              "    <tr>\n",
              "      <th>3</th>\n",
              "      <td>-137.0</td>\n",
              "      <td>30</td>\n",
              "      <td>203.17</td>\n",
              "      <td>6.772333</td>\n",
              "      <td>0.00</td>\n",
              "      <td>0.0</td>\n",
              "    </tr>\n",
              "    <tr>\n",
              "      <th>5</th>\n",
              "      <td>-605.0</td>\n",
              "      <td>1</td>\n",
              "      <td>1.08</td>\n",
              "      <td>1.080000</td>\n",
              "      <td>0.00</td>\n",
              "      <td>0.0</td>\n",
              "    </tr>\n",
              "    <tr>\n",
              "      <th>6</th>\n",
              "      <td>-68.0</td>\n",
              "      <td>12</td>\n",
              "      <td>112.74</td>\n",
              "      <td>9.395000</td>\n",
              "      <td>0.00</td>\n",
              "      <td>0.0</td>\n",
              "    </tr>\n",
              "    <tr>\n",
              "      <th>8</th>\n",
              "      <td>-46.0</td>\n",
              "      <td>19</td>\n",
              "      <td>112.60</td>\n",
              "      <td>5.926316</td>\n",
              "      <td>146.54</td>\n",
              "      <td>1.0</td>\n",
              "    </tr>\n",
              "    <tr>\n",
              "      <th>9</th>\n",
              "      <td>-127.0</td>\n",
              "      <td>7</td>\n",
              "      <td>40.17</td>\n",
              "      <td>5.738571</td>\n",
              "      <td>49.41</td>\n",
              "      <td>1.0</td>\n",
              "    </tr>\n",
              "    <tr>\n",
              "      <th>...</th>\n",
              "      <td>...</td>\n",
              "      <td>...</td>\n",
              "      <td>...</td>\n",
              "      <td>...</td>\n",
              "      <td>...</td>\n",
              "      <td>...</td>\n",
              "    </tr>\n",
              "    <tr>\n",
              "      <th>10275</th>\n",
              "      <td>-58.0</td>\n",
              "      <td>22</td>\n",
              "      <td>157.30</td>\n",
              "      <td>7.150000</td>\n",
              "      <td>0.00</td>\n",
              "      <td>0.0</td>\n",
              "    </tr>\n",
              "    <tr>\n",
              "      <th>10277</th>\n",
              "      <td>-159.0</td>\n",
              "      <td>9</td>\n",
              "      <td>89.86</td>\n",
              "      <td>9.984444</td>\n",
              "      <td>140.48</td>\n",
              "      <td>1.0</td>\n",
              "    </tr>\n",
              "    <tr>\n",
              "      <th>10278</th>\n",
              "      <td>-126.0</td>\n",
              "      <td>28</td>\n",
              "      <td>167.24</td>\n",
              "      <td>5.972857</td>\n",
              "      <td>0.00</td>\n",
              "      <td>0.0</td>\n",
              "    </tr>\n",
              "    <tr>\n",
              "      <th>10280</th>\n",
              "      <td>-9.0</td>\n",
              "      <td>28</td>\n",
              "      <td>173.32</td>\n",
              "      <td>6.190000</td>\n",
              "      <td>59.45</td>\n",
              "      <td>1.0</td>\n",
              "    </tr>\n",
              "    <tr>\n",
              "      <th>10281</th>\n",
              "      <td>-31.0</td>\n",
              "      <td>22</td>\n",
              "      <td>246.90</td>\n",
              "      <td>11.222727</td>\n",
              "      <td>0.00</td>\n",
              "      <td>0.0</td>\n",
              "    </tr>\n",
              "  </tbody>\n",
              "</table>\n",
              "<p>8426 rows × 6 columns</p>\n",
              "</div>\n",
              "      <button class=\"colab-df-convert\" onclick=\"convertToInteractive('df-b9f91207-866d-4172-88f1-a3ffbe510753')\"\n",
              "              title=\"Convert this dataframe to an interactive table.\"\n",
              "              style=\"display:none;\">\n",
              "        \n",
              "  <svg xmlns=\"http://www.w3.org/2000/svg\" height=\"24px\"viewBox=\"0 0 24 24\"\n",
              "       width=\"24px\">\n",
              "    <path d=\"M0 0h24v24H0V0z\" fill=\"none\"/>\n",
              "    <path d=\"M18.56 5.44l.94 2.06.94-2.06 2.06-.94-2.06-.94-.94-2.06-.94 2.06-2.06.94zm-11 1L8.5 8.5l.94-2.06 2.06-.94-2.06-.94L8.5 2.5l-.94 2.06-2.06.94zm10 10l.94 2.06.94-2.06 2.06-.94-2.06-.94-.94-2.06-.94 2.06-2.06.94z\"/><path d=\"M17.41 7.96l-1.37-1.37c-.4-.4-.92-.59-1.43-.59-.52 0-1.04.2-1.43.59L10.3 9.45l-7.72 7.72c-.78.78-.78 2.05 0 2.83L4 21.41c.39.39.9.59 1.41.59.51 0 1.02-.2 1.41-.59l7.78-7.78 2.81-2.81c.8-.78.8-2.07 0-2.86zM5.41 20L4 18.59l7.72-7.72 1.47 1.35L5.41 20z\"/>\n",
              "  </svg>\n",
              "      </button>\n",
              "      \n",
              "  <style>\n",
              "    .colab-df-container {\n",
              "      display:flex;\n",
              "      flex-wrap:wrap;\n",
              "      gap: 12px;\n",
              "    }\n",
              "\n",
              "    .colab-df-convert {\n",
              "      background-color: #E8F0FE;\n",
              "      border: none;\n",
              "      border-radius: 50%;\n",
              "      cursor: pointer;\n",
              "      display: none;\n",
              "      fill: #1967D2;\n",
              "      height: 32px;\n",
              "      padding: 0 0 0 0;\n",
              "      width: 32px;\n",
              "    }\n",
              "\n",
              "    .colab-df-convert:hover {\n",
              "      background-color: #E2EBFA;\n",
              "      box-shadow: 0px 1px 2px rgba(60, 64, 67, 0.3), 0px 1px 3px 1px rgba(60, 64, 67, 0.15);\n",
              "      fill: #174EA6;\n",
              "    }\n",
              "\n",
              "    [theme=dark] .colab-df-convert {\n",
              "      background-color: #3B4455;\n",
              "      fill: #D2E3FC;\n",
              "    }\n",
              "\n",
              "    [theme=dark] .colab-df-convert:hover {\n",
              "      background-color: #434B5C;\n",
              "      box-shadow: 0px 1px 3px 1px rgba(0, 0, 0, 0.15);\n",
              "      filter: drop-shadow(0px 1px 2px rgba(0, 0, 0, 0.3));\n",
              "      fill: #FFFFFF;\n",
              "    }\n",
              "  </style>\n",
              "\n",
              "      <script>\n",
              "        const buttonEl =\n",
              "          document.querySelector('#df-b9f91207-866d-4172-88f1-a3ffbe510753 button.colab-df-convert');\n",
              "        buttonEl.style.display =\n",
              "          google.colab.kernel.accessAllowed ? 'block' : 'none';\n",
              "\n",
              "        async function convertToInteractive(key) {\n",
              "          const element = document.querySelector('#df-b9f91207-866d-4172-88f1-a3ffbe510753');\n",
              "          const dataTable =\n",
              "            await google.colab.kernel.invokeFunction('convertToInteractive',\n",
              "                                                     [key], {});\n",
              "          if (!dataTable) return;\n",
              "\n",
              "          const docLinkHtml = 'Like what you see? Visit the ' +\n",
              "            '<a target=\"_blank\" href=https://colab.research.google.com/notebooks/data_table.ipynb>data table notebook</a>'\n",
              "            + ' to learn more about interactive tables.';\n",
              "          element.innerHTML = '';\n",
              "          dataTable['output_type'] = 'display_data';\n",
              "          await google.colab.output.renderOutput(dataTable, element);\n",
              "          const docLink = document.createElement('div');\n",
              "          docLink.innerHTML = docLinkHtml;\n",
              "          element.appendChild(docLink);\n",
              "        }\n",
              "      </script>\n",
              "    </div>\n",
              "  </div>\n",
              "  "
            ]
          },
          "metadata": {},
          "execution_count": 111
        }
      ]
    },
    {
      "cell_type": "markdown",
      "source": [
        "Machine Learning\n"
      ],
      "metadata": {
        "id": "rbHY6ZQSAKL_"
      }
    },
    {
      "cell_type": "code",
      "source": [
        "from xgboost import XGBClassifier, XGBRegressor\n",
        "from sklearn.model_selection import GridSearchCV"
      ],
      "metadata": {
        "id": "g7X7tvC2_P9K"
      },
      "execution_count": 112,
      "outputs": []
    },
    {
      "cell_type": "markdown",
      "source": [
        "Model1: Predict how much customer will spend in next 90 days-------\n",
        "- the following are our regressors"
      ],
      "metadata": {
        "id": "YiXFuebZ3s41"
      }
    },
    {
      "cell_type": "code",
      "source": [
        "X=features[['recency','frequency', 'sales_sum', 'sales_mean']]"
      ],
      "metadata": {
        "id": "nNytPU4YAWz1"
      },
      "execution_count": 113,
      "outputs": []
    },
    {
      "cell_type": "markdown",
      "source": [
        "ML1= Next 90 day prediction"
      ],
      "metadata": {
        "id": "Yr691IFnAiQp"
      }
    },
    {
      "cell_type": "code",
      "source": [
        "y_spend=features['spend_90_total']\n",
        "y_spend\n"
      ],
      "metadata": {
        "colab": {
          "base_uri": "https://localhost:8080/"
        },
        "id": "grf9DyliD0aF",
        "outputId": "f093e995-4cbf-43b3-cfb0-e65d5058cc8f"
      },
      "execution_count": 114,
      "outputs": [
        {
          "output_type": "execute_result",
          "data": {
            "text/plain": [
              "customer_id\n",
              "3          0.00\n",
              "5          0.00\n",
              "6          0.00\n",
              "8        146.54\n",
              "9         49.41\n",
              "          ...  \n",
              "10275      0.00\n",
              "10277    140.48\n",
              "10278      0.00\n",
              "10280     59.45\n",
              "10281      0.00\n",
              "Name: spend_90_total, Length: 8426, dtype: float64"
            ]
          },
          "metadata": {},
          "execution_count": 114
        }
      ]
    },
    {
      "cell_type": "code",
      "source": [
        "y_spend=features['spend_90_total']\n",
        "\n",
        "xgb_reg_spec=XGBRegressor(\n",
        "    objective=\"reg:squarederror\",\n",
        "    random_state=123\n",
        ")\n",
        "\n"
      ],
      "metadata": {
        "id": "UXvh_CozAgEf"
      },
      "execution_count": 115,
      "outputs": []
    },
    {
      "cell_type": "code",
      "source": [
        "xgb_reg_model=GridSearchCV(\n",
        "    estimator=xgb_reg_spec,\n",
        "    param_grid=dict(\n",
        "        learning_rate=[0.01,0.1,0.3,0.5]\n",
        "    ),\n",
        "    scoring='neg_mean_absolute_error',\n",
        "    refit=True,\n",
        "    cv=5\n",
        ")"
      ],
      "metadata": {
        "id": "gYbHnhglBwrj"
      },
      "execution_count": 116,
      "outputs": []
    },
    {
      "cell_type": "code",
      "source": [
        "xgb_reg_model.fit(X,y_spend)"
      ],
      "metadata": {
        "colab": {
          "base_uri": "https://localhost:8080/"
        },
        "id": "OhWYJDzZCf_p",
        "outputId": "ed42db3c-cda2-4dba-c960-1b8e22ece8d7"
      },
      "execution_count": 117,
      "outputs": [
        {
          "output_type": "execute_result",
          "data": {
            "text/plain": [
              "GridSearchCV(cv=5,\n",
              "             estimator=XGBRegressor(objective='reg:squarederror',\n",
              "                                    random_state=123),\n",
              "             param_grid={'learning_rate': [0.01, 0.1, 0.3, 0.5]},\n",
              "             scoring='neg_mean_absolute_error')"
            ]
          },
          "metadata": {},
          "execution_count": 117
        }
      ]
    },
    {
      "cell_type": "code",
      "source": [
        "xgb_reg_model.best_score_"
      ],
      "metadata": {
        "colab": {
          "base_uri": "https://localhost:8080/"
        },
        "id": "KSvVnyuZCmt2",
        "outputId": "c8a2b7df-4718-4614-e348-29467c5e9b28"
      },
      "execution_count": 118,
      "outputs": [
        {
          "output_type": "execute_result",
          "data": {
            "text/plain": [
              "-28.642946346349866"
            ]
          },
          "metadata": {},
          "execution_count": 118
        }
      ]
    },
    {
      "cell_type": "markdown",
      "source": [
        "The above evaluation means that we are on average off by 28 euros per customer(It should be as low as possible) but it isn't bad consedering we are getting 100s of euros (as we can see from y_spend)"
      ],
      "metadata": {
        "id": "hxl779o4DkAl"
      }
    },
    {
      "cell_type": "code",
      "source": [
        "xgb_reg_model.best_params_\n",
        "xgb_reg_model.best_estimator_\n"
      ],
      "metadata": {
        "colab": {
          "base_uri": "https://localhost:8080/"
        },
        "id": "d9myPlrfDcsx",
        "outputId": "35b42417-6573-4929-bd84-260bcbef2cae"
      },
      "execution_count": 119,
      "outputs": [
        {
          "output_type": "execute_result",
          "data": {
            "text/plain": [
              "XGBRegressor(learning_rate=0.01, objective='reg:squarederror', random_state=123)"
            ]
          },
          "metadata": {},
          "execution_count": 119
        }
      ]
    },
    {
      "cell_type": "code",
      "source": [
        "predictions_reg=xgb_reg_model.predict(X)\n",
        "predictions_reg"
      ],
      "metadata": {
        "colab": {
          "base_uri": "https://localhost:8080/"
        },
        "id": "YWhsBoH4ERLi",
        "outputId": "f2383065-b9e3-410e-aa9d-1e4d505883c7"
      },
      "execution_count": 120,
      "outputs": [
        {
          "output_type": "execute_result",
          "data": {
            "text/plain": [
              "array([18.977303 ,  5.0027194, 12.996088 , ..., 18.876333 , 23.329084 ,\n",
              "       24.970182 ], dtype=float32)"
            ]
          },
          "metadata": {},
          "execution_count": 120
        }
      ]
    },
    {
      "cell_type": "markdown",
      "source": [
        "it means that the first customer on the list will spend 18 euros "
      ],
      "metadata": {
        "id": "7b7QTWcsEluP"
      }
    },
    {
      "cell_type": "markdown",
      "source": [
        "ML2= Next 90 day probability, here instead of predicting the amount spend we would rather see if they are gonna spend or not"
      ],
      "metadata": {
        "id": "ruqPdDUPE8bf"
      }
    },
    {
      "cell_type": "code",
      "source": [
        "y_prob=features['spend_90_flag']"
      ],
      "metadata": {
        "id": "iUgEHGk2EcTl"
      },
      "execution_count": 121,
      "outputs": []
    },
    {
      "cell_type": "code",
      "source": [
        "xgb_clf_spec=XGBClassifier(\n",
        "    objective=\"binary:logistic\",\n",
        "    random_state=123\n",
        ")"
      ],
      "metadata": {
        "id": "l9DVYcirFKro"
      },
      "execution_count": 122,
      "outputs": []
    },
    {
      "cell_type": "code",
      "source": [
        "xgb_clf_model=GridSearchCV(\n",
        "    estimator=xgb_clf_spec,\n",
        "    param_grid=dict(\n",
        "        learning_rate=[0.01,0.1,0.3,0.5]\n",
        "    ),\n",
        "    scoring='roc_auc',\n",
        "    refit=True,\n",
        "    cv=5\n",
        ")"
      ],
      "metadata": {
        "id": "1TQrePJXFolV"
      },
      "execution_count": 123,
      "outputs": []
    },
    {
      "cell_type": "code",
      "source": [
        "xgb_clf_model.fit(X,y_prob)"
      ],
      "metadata": {
        "colab": {
          "base_uri": "https://localhost:8080/"
        },
        "id": "-WPz_RR1Fzx3",
        "outputId": "3286fa09-b307-453e-f147-3038cb8f236d"
      },
      "execution_count": 124,
      "outputs": [
        {
          "output_type": "execute_result",
          "data": {
            "text/plain": [
              "GridSearchCV(cv=5, estimator=XGBClassifier(random_state=123),\n",
              "             param_grid={'learning_rate': [0.01, 0.1, 0.3, 0.5]},\n",
              "             scoring='roc_auc')"
            ]
          },
          "metadata": {},
          "execution_count": 124
        }
      ]
    },
    {
      "cell_type": "code",
      "source": [
        "xgb_clf_model.best_score_"
      ],
      "metadata": {
        "colab": {
          "base_uri": "https://localhost:8080/"
        },
        "id": "7UvEIUF-F52y",
        "outputId": "110b5a1b-cdee-4772-d292-55a9a39c7c7c"
      },
      "execution_count": 125,
      "outputs": [
        {
          "output_type": "execute_result",
          "data": {
            "text/plain": [
              "0.71725302166265"
            ]
          },
          "metadata": {},
          "execution_count": 125
        }
      ]
    },
    {
      "cell_type": "markdown",
      "source": [
        "Which is nice concedering that 1.0 is the perfect model, it is much further away from random guessing"
      ],
      "metadata": {
        "id": "1TUZaxWCTFN6"
      }
    },
    {
      "cell_type": "code",
      "source": [
        "xgb_clf_model.best_params_\n",
        "xgb_clf_model.best_estimator_"
      ],
      "metadata": {
        "colab": {
          "base_uri": "https://localhost:8080/"
        },
        "id": "QcFFwXN1S3vw",
        "outputId": "45788973-a24d-4d7f-b6b2-4380d4f9e6c6"
      },
      "execution_count": 126,
      "outputs": [
        {
          "output_type": "execute_result",
          "data": {
            "text/plain": [
              "XGBClassifier(learning_rate=0.01, random_state=123)"
            ]
          },
          "metadata": {},
          "execution_count": 126
        }
      ]
    },
    {
      "cell_type": "code",
      "source": [
        "predictions_clf=xgb_clf_model.predict_proba(X)\n",
        "predictions_clf\n"
      ],
      "metadata": {
        "colab": {
          "base_uri": "https://localhost:8080/"
        },
        "id": "BdNkfgnuTc57",
        "outputId": "98b23746-ea41-4915-90da-e34fb3968c5f"
      },
      "execution_count": 127,
      "outputs": [
        {
          "output_type": "execute_result",
          "data": {
            "text/plain": [
              "array([[0.46366125, 0.53633875],\n",
              "       [0.72216904, 0.277831  ],\n",
              "       [0.5041783 , 0.49582174],\n",
              "       ...,\n",
              "       [0.4662925 , 0.5337075 ],\n",
              "       [0.40924007, 0.59075993],\n",
              "       [0.4069262 , 0.5930738 ]], dtype=float32)"
            ]
          },
          "metadata": {},
          "execution_count": 127
        }
      ]
    },
    {
      "cell_type": "markdown",
      "source": [
        "What we can infer from the array is that the probability of repurchase from the respective customers for example 1st customer_id has 46% chance of repurchase."
      ],
      "metadata": {
        "id": "mDsxOgd_TxyM"
      }
    },
    {
      "cell_type": "markdown",
      "source": [
        "-------------------\n",
        "Feature Importance (Global)"
      ],
      "metadata": {
        "id": "ORSUXADrUJhF"
      }
    },
    {
      "cell_type": "code",
      "source": [
        "imp_spend_amount_dict=xgb_reg_model\\\n",
        "  .best_estimator_\\\n",
        "  .get_booster()\\\n",
        "  .get_score(importance_type='gain')"
      ],
      "metadata": {
        "id": "Tj8OYW-STmcU"
      },
      "execution_count": 128,
      "outputs": []
    },
    {
      "cell_type": "code",
      "source": [
        "imp_spend_amount_df=pd.DataFrame(\n",
        "    data={\n",
        "        'feature':list(imp_spend_amount_dict.keys()),\n",
        "        'value':list(imp_spend_amount_dict.values())\n",
        "    }\n",
        ")\\\n",
        "  .assign(\n",
        "      feature=lambda x:cat.cat_reorder(x['feature'], x['value'])\n",
        "  )"
      ],
      "metadata": {
        "id": "gHjelXXmWRhD"
      },
      "execution_count": 129,
      "outputs": []
    },
    {
      "cell_type": "code",
      "source": [
        "pn.ggplot(\n",
        "    pn.aes('feature','value'),\n",
        "    data=imp_spend_amount_df\n",
        ")\\\n",
        "  + pn.geom_col()\\\n",
        "  +pn.coord_flip()"
      ],
      "metadata": {
        "colab": {
          "base_uri": "https://localhost:8080/",
          "height": 1000
        },
        "id": "YIJbM8XxW81a",
        "outputId": "3a3f0010-310f-431d-aa75-bd37aa302353"
      },
      "execution_count": 130,
      "outputs": [
        {
          "output_type": "stream",
          "name": "stderr",
          "text": [
            "/usr/local/lib/python3.7/dist-packages/plotnine/utils.py:1246: FutureWarning: is_categorical is deprecated and will be removed in a future version.  Use is_categorical_dtype instead\n",
            "  if pdtypes.is_categorical(arr):\n"
          ]
        },
        {
          "output_type": "display_data",
          "data": {
            "text/plain": [
              "<Figure size 1920x1440 with 1 Axes>"
            ],
            "image/png": "[encoded data removed]"
          },
          "metadata": {}
        },
        {
          "output_type": "execute_result",
          "data": {
            "text/plain": [
              "<ggplot: (8759973045481)>"
            ]
          },
          "metadata": {},
          "execution_count": 130
        }
      ]
    },
    {
      "cell_type": "markdown",
      "source": [
        "What we can infer from above graph is that our feature is heavily dependent on sales_sum\n"
      ],
      "metadata": {
        "id": "qLDZkDJoXivE"
      }
    },
    {
      "cell_type": "code",
      "source": [
        "#IMportance | spend Probability Model\n",
        "imp_spend_amount_dict=xgb_clf_model\\\n",
        "  .best_estimator_\\\n",
        "  .get_booster()\\\n",
        "  .get_score(importance_type='gain')\n",
        "\n",
        "imp_spend_amount_df=pd.DataFrame(\n",
        "    data={\n",
        "        'feature':list(imp_spend_amount_dict.keys()),\n",
        "        'value':list(imp_spend_amount_dict.values())\n",
        "    }\n",
        ")\\\n",
        "  .assign(\n",
        "      feature=lambda x:cat.cat_reorder(x['feature'],x['value'])\n",
        "  )\n",
        "\n",
        "pn.ggplot(\n",
        "    pn.aes('feature','value'),\n",
        "    data=imp_spend_amount_df\n",
        ")\\\n",
        "  +pn.geom_col()\\\n",
        "  +pn.coord_flip()\n"
      ],
      "metadata": {
        "colab": {
          "base_uri": "https://localhost:8080/",
          "height": 1000
        },
        "id": "Vi5bbOjbXeEA",
        "outputId": "8ab7408e-a517-4be8-a70b-8047f84acdb6"
      },
      "execution_count": 131,
      "outputs": [
        {
          "output_type": "stream",
          "name": "stderr",
          "text": [
            "/usr/local/lib/python3.7/dist-packages/plotnine/utils.py:1246: FutureWarning: is_categorical is deprecated and will be removed in a future version.  Use is_categorical_dtype instead\n",
            "  if pdtypes.is_categorical(arr):\n"
          ]
        },
        {
          "output_type": "display_data",
          "data": {
            "text/plain": [
              "<Figure size 1920x1440 with 1 Axes>"
            ],
            "image/png": "[encoded data removed]"
          },
          "metadata": {}
        },
        {
          "output_type": "execute_result",
          "data": {
            "text/plain": [
              "<ggplot: (8759972989705)>"
            ]
          },
          "metadata": {},
          "execution_count": 131
        }
      ]
    },
    {
      "cell_type": "markdown",
      "source": [
        "SAVE WORK\n"
      ],
      "metadata": {
        "id": "15NyJwnGZpk2"
      }
    },
    {
      "cell_type": "code",
      "source": [
        "#Save Predictions\n",
        "predictions_df=pd.concat(\n",
        "    [\n",
        "        pd.DataFrame(predictions_reg).set_axis(['pred_spend'],axis=1),\n",
        "        pd.DataFrame(predictions_clf)[[1]].set_axis(['pred_prob'], axis=1),\n",
        "        features.reset_index()\n",
        "    ],\n",
        "    axis=1\n",
        ")\n"
      ],
      "metadata": {
        "id": "gruiHNFpZpPZ"
      },
      "execution_count": 132,
      "outputs": []
    },
    {
      "cell_type": "code",
      "source": [
        "predictions_df"
      ],
      "metadata": {
        "colab": {
          "base_uri": "https://localhost:8080/",
          "height": 424
        },
        "id": "vLXeKBUQZTv-",
        "outputId": "3f4d8c27-f94e-4443-bd96-7406144274db"
      },
      "execution_count": 133,
      "outputs": [
        {
          "output_type": "execute_result",
          "data": {
            "text/plain": [
              "      pred_spend  pred_prob  customer_id  recency  frequency  sales_sum  \\\n",
              "0      18.977303   0.536339            3   -137.0         30     203.17   \n",
              "1       5.002719   0.277831            5   -605.0          1       1.08   \n",
              "2      12.996088   0.495822            6    -68.0         12     112.74   \n",
              "3      13.321026   0.526898            8    -46.0         19     112.60   \n",
              "4      11.065372   0.462235            9   -127.0          7      40.17   \n",
              "...          ...        ...          ...      ...        ...        ...   \n",
              "8421   16.398312   0.525105        10275    -58.0         22     157.30   \n",
              "8422   12.996088   0.468214        10277   -159.0          9      89.86   \n",
              "8423   18.876333   0.533707        10278   -126.0         28     167.24   \n",
              "8424   23.329084   0.590760        10280     -9.0         28     173.32   \n",
              "8425   24.970182   0.593074        10281    -31.0         22     246.90   \n",
              "\n",
              "      sales_mean  spend_90_total  spend_90_flag  \n",
              "0       6.772333            0.00            0.0  \n",
              "1       1.080000            0.00            0.0  \n",
              "2       9.395000            0.00            0.0  \n",
              "3       5.926316          146.54            1.0  \n",
              "4       5.738571           49.41            1.0  \n",
              "...          ...             ...            ...  \n",
              "8421    7.150000            0.00            0.0  \n",
              "8422    9.984444          140.48            1.0  \n",
              "8423    5.972857            0.00            0.0  \n",
              "8424    6.190000           59.45            1.0  \n",
              "8425   11.222727            0.00            0.0  \n",
              "\n",
              "[8426 rows x 9 columns]"
            ],
            "text/html": [
              "\n",
              "  <div id=\"df-36caf363-9a31-41ab-bb42-20df4cf24b65\">\n",
              "    <div class=\"colab-df-container\">\n",
              "      <div>\n",
              "<style scoped>\n",
              "    .dataframe tbody tr th:only-of-type {\n",
              "        vertical-align: middle;\n",
              "    }\n",
              "\n",
              "    .dataframe tbody tr th {\n",
              "        vertical-align: top;\n",
              "    }\n",
              "\n",
              "    .dataframe thead th {\n",
              "        text-align: right;\n",
              "    }\n",
              "</style>\n",
              "<table border=\"1\" class=\"dataframe\">\n",
              "  <thead>\n",
              "    <tr style=\"text-align: right;\">\n",
              "      <th></th>\n",
              "      <th>pred_spend</th>\n",
              "      <th>pred_prob</th>\n",
              "      <th>customer_id</th>\n",
              "      <th>recency</th>\n",
              "      <th>frequency</th>\n",
              "      <th>sales_sum</th>\n",
              "      <th>sales_mean</th>\n",
              "      <th>spend_90_total</th>\n",
              "      <th>spend_90_flag</th>\n",
              "    </tr>\n",
              "  </thead>\n",
              "  <tbody>\n",
              "    <tr>\n",
              "      <th>0</th>\n",
              "      <td>18.977303</td>\n",
              "      <td>0.536339</td>\n",
              "      <td>3</td>\n",
              "      <td>-137.0</td>\n",
              "      <td>30</td>\n",
              "      <td>203.17</td>\n",
              "      <td>6.772333</td>\n",
              "      <td>0.00</td>\n",
              "      <td>0.0</td>\n",
              "    </tr>\n",
              "    <tr>\n",
              "      <th>1</th>\n",
              "      <td>5.002719</td>\n",
              "      <td>0.277831</td>\n",
              "      <td>5</td>\n",
              "      <td>-605.0</td>\n",
              "      <td>1</td>\n",
              "      <td>1.08</td>\n",
              "      <td>1.080000</td>\n",
              "      <td>0.00</td>\n",
              "      <td>0.0</td>\n",
              "    </tr>\n",
              "    <tr>\n",
              "      <th>2</th>\n",
              "      <td>12.996088</td>\n",
              "      <td>0.495822</td>\n",
              "      <td>6</td>\n",
              "      <td>-68.0</td>\n",
              "      <td>12</td>\n",
              "      <td>112.74</td>\n",
              "      <td>9.395000</td>\n",
              "      <td>0.00</td>\n",
              "      <td>0.0</td>\n",
              "    </tr>\n",
              "    <tr>\n",
              "      <th>3</th>\n",
              "      <td>13.321026</td>\n",
              "      <td>0.526898</td>\n",
              "      <td>8</td>\n",
              "      <td>-46.0</td>\n",
              "      <td>19</td>\n",
              "      <td>112.60</td>\n",
              "      <td>5.926316</td>\n",
              "      <td>146.54</td>\n",
              "      <td>1.0</td>\n",
              "    </tr>\n",
              "    <tr>\n",
              "      <th>4</th>\n",
              "      <td>11.065372</td>\n",
              "      <td>0.462235</td>\n",
              "      <td>9</td>\n",
              "      <td>-127.0</td>\n",
              "      <td>7</td>\n",
              "      <td>40.17</td>\n",
              "      <td>5.738571</td>\n",
              "      <td>49.41</td>\n",
              "      <td>1.0</td>\n",
              "    </tr>\n",
              "    <tr>\n",
              "      <th>...</th>\n",
              "      <td>...</td>\n",
              "      <td>...</td>\n",
              "      <td>...</td>\n",
              "      <td>...</td>\n",
              "      <td>...</td>\n",
              "      <td>...</td>\n",
              "      <td>...</td>\n",
              "      <td>...</td>\n",
              "      <td>...</td>\n",
              "    </tr>\n",
              "    <tr>\n",
              "      <th>8421</th>\n",
              "      <td>16.398312</td>\n",
              "      <td>0.525105</td>\n",
              "      <td>10275</td>\n",
              "      <td>-58.0</td>\n",
              "      <td>22</td>\n",
              "      <td>157.30</td>\n",
              "      <td>7.150000</td>\n",
              "      <td>0.00</td>\n",
              "      <td>0.0</td>\n",
              "    </tr>\n",
              "    <tr>\n",
              "      <th>8422</th>\n",
              "      <td>12.996088</td>\n",
              "      <td>0.468214</td>\n",
              "      <td>10277</td>\n",
              "      <td>-159.0</td>\n",
              "      <td>9</td>\n",
              "      <td>89.86</td>\n",
              "      <td>9.984444</td>\n",
              "      <td>140.48</td>\n",
              "      <td>1.0</td>\n",
              "    </tr>\n",
              "    <tr>\n",
              "      <th>8423</th>\n",
              "      <td>18.876333</td>\n",
              "      <td>0.533707</td>\n",
              "      <td>10278</td>\n",
              "      <td>-126.0</td>\n",
              "      <td>28</td>\n",
              "      <td>167.24</td>\n",
              "      <td>5.972857</td>\n",
              "      <td>0.00</td>\n",
              "      <td>0.0</td>\n",
              "    </tr>\n",
              "    <tr>\n",
              "      <th>8424</th>\n",
              "      <td>23.329084</td>\n",
              "      <td>0.590760</td>\n",
              "      <td>10280</td>\n",
              "      <td>-9.0</td>\n",
              "      <td>28</td>\n",
              "      <td>173.32</td>\n",
              "      <td>6.190000</td>\n",
              "      <td>59.45</td>\n",
              "      <td>1.0</td>\n",
              "    </tr>\n",
              "    <tr>\n",
              "      <th>8425</th>\n",
              "      <td>24.970182</td>\n",
              "      <td>0.593074</td>\n",
              "      <td>10281</td>\n",
              "      <td>-31.0</td>\n",
              "      <td>22</td>\n",
              "      <td>246.90</td>\n",
              "      <td>11.222727</td>\n",
              "      <td>0.00</td>\n",
              "      <td>0.0</td>\n",
              "    </tr>\n",
              "  </tbody>\n",
              "</table>\n",
              "<p>8426 rows × 9 columns</p>\n",
              "</div>\n",
              "      <button class=\"colab-df-convert\" onclick=\"convertToInteractive('df-36caf363-9a31-41ab-bb42-20df4cf24b65')\"\n",
              "              title=\"Convert this dataframe to an interactive table.\"\n",
              "              style=\"display:none;\">\n",
              "        \n",
              "  <svg xmlns=\"http://www.w3.org/2000/svg\" height=\"24px\"viewBox=\"0 0 24 24\"\n",
              "       width=\"24px\">\n",
              "    <path d=\"M0 0h24v24H0V0z\" fill=\"none\"/>\n",
              "    <path d=\"M18.56 5.44l.94 2.06.94-2.06 2.06-.94-2.06-.94-.94-2.06-.94 2.06-2.06.94zm-11 1L8.5 8.5l.94-2.06 2.06-.94-2.06-.94L8.5 2.5l-.94 2.06-2.06.94zm10 10l.94 2.06.94-2.06 2.06-.94-2.06-.94-.94-2.06-.94 2.06-2.06.94z\"/><path d=\"M17.41 7.96l-1.37-1.37c-.4-.4-.92-.59-1.43-.59-.52 0-1.04.2-1.43.59L10.3 9.45l-7.72 7.72c-.78.78-.78 2.05 0 2.83L4 21.41c.39.39.9.59 1.41.59.51 0 1.02-.2 1.41-.59l7.78-7.78 2.81-2.81c.8-.78.8-2.07 0-2.86zM5.41 20L4 18.59l7.72-7.72 1.47 1.35L5.41 20z\"/>\n",
              "  </svg>\n",
              "      </button>\n",
              "      \n",
              "  <style>\n",
              "    .colab-df-container {\n",
              "      display:flex;\n",
              "      flex-wrap:wrap;\n",
              "      gap: 12px;\n",
              "    }\n",
              "\n",
              "    .colab-df-convert {\n",
              "      background-color: #E8F0FE;\n",
              "      border: none;\n",
              "      border-radius: 50%;\n",
              "      cursor: pointer;\n",
              "      display: none;\n",
              "      fill: #1967D2;\n",
              "      height: 32px;\n",
              "      padding: 0 0 0 0;\n",
              "      width: 32px;\n",
              "    }\n",
              "\n",
              "    .colab-df-convert:hover {\n",
              "      background-color: #E2EBFA;\n",
              "      box-shadow: 0px 1px 2px rgba(60, 64, 67, 0.3), 0px 1px 3px 1px rgba(60, 64, 67, 0.15);\n",
              "      fill: #174EA6;\n",
              "    }\n",
              "\n",
              "    [theme=dark] .colab-df-convert {\n",
              "      background-color: #3B4455;\n",
              "      fill: #D2E3FC;\n",
              "    }\n",
              "\n",
              "    [theme=dark] .colab-df-convert:hover {\n",
              "      background-color: #434B5C;\n",
              "      box-shadow: 0px 1px 3px 1px rgba(0, 0, 0, 0.15);\n",
              "      filter: drop-shadow(0px 1px 2px rgba(0, 0, 0, 0.3));\n",
              "      fill: #FFFFFF;\n",
              "    }\n",
              "  </style>\n",
              "\n",
              "      <script>\n",
              "        const buttonEl =\n",
              "          document.querySelector('#df-36caf363-9a31-41ab-bb42-20df4cf24b65 button.colab-df-convert');\n",
              "        buttonEl.style.display =\n",
              "          google.colab.kernel.accessAllowed ? 'block' : 'none';\n",
              "\n",
              "        async function convertToInteractive(key) {\n",
              "          const element = document.querySelector('#df-36caf363-9a31-41ab-bb42-20df4cf24b65');\n",
              "          const dataTable =\n",
              "            await google.colab.kernel.invokeFunction('convertToInteractive',\n",
              "                                                     [key], {});\n",
              "          if (!dataTable) return;\n",
              "\n",
              "          const docLinkHtml = 'Like what you see? Visit the ' +\n",
              "            '<a target=\"_blank\" href=https://colab.research.google.com/notebooks/data_table.ipynb>data table notebook</a>'\n",
              "            + ' to learn more about interactive tables.';\n",
              "          element.innerHTML = '';\n",
              "          dataTable['output_type'] = 'display_data';\n",
              "          await google.colab.output.renderOutput(dataTable, element);\n",
              "          const docLink = document.createElement('div');\n",
              "          docLink.innerHTML = docLinkHtml;\n",
              "          element.appendChild(docLink);\n",
              "        }\n",
              "      </script>\n",
              "    </div>\n",
              "  </div>\n",
              "  "
            ]
          },
          "metadata": {},
          "execution_count": 133
        }
      ]
    },
    {
      "cell_type": "markdown",
      "source": [
        "From the above **table** we can see our target customers for instance customer with customer_id=3 has pred_spend approx 19 euros but hasn't spend any as we can see in (spend_90_total) "
      ],
      "metadata": {
        "id": "7PTjkvlPpvDL"
      }
    },
    {
      "cell_type": "markdown",
      "source": [
        "Now using this information,\n",
        "\n",
        "1- Which customers have the highest spend probability in the next 90-days?\n",
        "target for new products similar to what theu have purchased in the past."
      ],
      "metadata": {
        "id": "oDClhpbVqs28"
      }
    },
    {
      "cell_type": "code",
      "source": [
        "predictions_df\\\n",
        "  .sort_values('pred_prob', ascending=False)"
      ],
      "metadata": {
        "colab": {
          "base_uri": "https://localhost:8080/",
          "height": 424
        },
        "id": "auQUfH89dDvl",
        "outputId": "a9282a53-8040-428a-f45e-1cb00fc87f8e"
      },
      "execution_count": 134,
      "outputs": [
        {
          "output_type": "execute_result",
          "data": {
            "text/plain": [
              "      pred_spend  pred_prob  customer_id  recency  frequency  sales_sum  \\\n",
              "6402  140.370667   0.795201         7812    -10.0        106     671.44   \n",
              "4038  120.355682   0.795201         4932     -7.0        102     647.87   \n",
              "1306  148.056839   0.795201         1612    -11.0        114     910.11   \n",
              "6861  126.773315   0.795201         8355    -11.0         96     725.98   \n",
              "6313  136.260391   0.795201         7702     -7.0        182    1290.17   \n",
              "...          ...        ...          ...      ...        ...        ...   \n",
              "3727    5.002719   0.277831         4546   -333.0          2       5.50   \n",
              "7192    5.002719   0.277831         8762   -605.0          2       5.90   \n",
              "3162    5.002719   0.277831         3861   -602.0          2       5.30   \n",
              "3306    5.002719   0.277831         4031   -496.0          5      14.87   \n",
              "200     5.002719   0.277831          269   -452.0          2       6.28   \n",
              "\n",
              "      sales_mean  spend_90_total  spend_90_flag  \n",
              "6402    6.334340          348.36            1.0  \n",
              "4038    6.351667          219.85            1.0  \n",
              "1306    7.983421          375.18            1.0  \n",
              "6861    7.562292          245.86            1.0  \n",
              "6313    7.088846          226.61            1.0  \n",
              "...          ...             ...            ...  \n",
              "3727    2.750000            0.00            0.0  \n",
              "7192    2.950000            0.00            0.0  \n",
              "3162    2.650000            0.00            0.0  \n",
              "3306    2.974000            0.00            0.0  \n",
              "200     3.140000            0.00            0.0  \n",
              "\n",
              "[8426 rows x 9 columns]"
            ],
            "text/html": [
              "\n",
              "  <div id=\"df-ac77593c-f899-4010-969d-203b8587fab8\">\n",
              "    <div class=\"colab-df-container\">\n",
              "      <div>\n",
              "<style scoped>\n",
              "    .dataframe tbody tr th:only-of-type {\n",
              "        vertical-align: middle;\n",
              "    }\n",
              "\n",
              "    .dataframe tbody tr th {\n",
              "        vertical-align: top;\n",
              "    }\n",
              "\n",
              "    .dataframe thead th {\n",
              "        text-align: right;\n",
              "    }\n",
              "</style>\n",
              "<table border=\"1\" class=\"dataframe\">\n",
              "  <thead>\n",
              "    <tr style=\"text-align: right;\">\n",
              "      <th></th>\n",
              "      <th>pred_spend</th>\n",
              "      <th>pred_prob</th>\n",
              "      <th>customer_id</th>\n",
              "      <th>recency</th>\n",
              "      <th>frequency</th>\n",
              "      <th>sales_sum</th>\n",
              "      <th>sales_mean</th>\n",
              "      <th>spend_90_total</th>\n",
              "      <th>spend_90_flag</th>\n",
              "    </tr>\n",
              "  </thead>\n",
              "  <tbody>\n",
              "    <tr>\n",
              "      <th>6402</th>\n",
              "      <td>140.370667</td>\n",
              "      <td>0.795201</td>\n",
              "      <td>7812</td>\n",
              "      <td>-10.0</td>\n",
              "      <td>106</td>\n",
              "      <td>671.44</td>\n",
              "      <td>6.334340</td>\n",
              "      <td>348.36</td>\n",
              "      <td>1.0</td>\n",
              "    </tr>\n",
              "    <tr>\n",
              "      <th>4038</th>\n",
              "      <td>120.355682</td>\n",
              "      <td>0.795201</td>\n",
              "      <td>4932</td>\n",
              "      <td>-7.0</td>\n",
              "      <td>102</td>\n",
              "      <td>647.87</td>\n",
              "      <td>6.351667</td>\n",
              "      <td>219.85</td>\n",
              "      <td>1.0</td>\n",
              "    </tr>\n",
              "    <tr>\n",
              "      <th>1306</th>\n",
              "      <td>148.056839</td>\n",
              "      <td>0.795201</td>\n",
              "      <td>1612</td>\n",
              "      <td>-11.0</td>\n",
              "      <td>114</td>\n",
              "      <td>910.11</td>\n",
              "      <td>7.983421</td>\n",
              "      <td>375.18</td>\n",
              "      <td>1.0</td>\n",
              "    </tr>\n",
              "    <tr>\n",
              "      <th>6861</th>\n",
              "      <td>126.773315</td>\n",
              "      <td>0.795201</td>\n",
              "      <td>8355</td>\n",
              "      <td>-11.0</td>\n",
              "      <td>96</td>\n",
              "      <td>725.98</td>\n",
              "      <td>7.562292</td>\n",
              "      <td>245.86</td>\n",
              "      <td>1.0</td>\n",
              "    </tr>\n",
              "    <tr>\n",
              "      <th>6313</th>\n",
              "      <td>136.260391</td>\n",
              "      <td>0.795201</td>\n",
              "      <td>7702</td>\n",
              "      <td>-7.0</td>\n",
              "      <td>182</td>\n",
              "      <td>1290.17</td>\n",
              "      <td>7.088846</td>\n",
              "      <td>226.61</td>\n",
              "      <td>1.0</td>\n",
              "    </tr>\n",
              "    <tr>\n",
              "      <th>...</th>\n",
              "      <td>...</td>\n",
              "      <td>...</td>\n",
              "      <td>...</td>\n",
              "      <td>...</td>\n",
              "      <td>...</td>\n",
              "      <td>...</td>\n",
              "      <td>...</td>\n",
              "      <td>...</td>\n",
              "      <td>...</td>\n",
              "    </tr>\n",
              "    <tr>\n",
              "      <th>3727</th>\n",
              "      <td>5.002719</td>\n",
              "      <td>0.277831</td>\n",
              "      <td>4546</td>\n",
              "      <td>-333.0</td>\n",
              "      <td>2</td>\n",
              "      <td>5.50</td>\n",
              "      <td>2.750000</td>\n",
              "      <td>0.00</td>\n",
              "      <td>0.0</td>\n",
              "    </tr>\n",
              "    <tr>\n",
              "      <th>7192</th>\n",
              "      <td>5.002719</td>\n",
              "      <td>0.277831</td>\n",
              "      <td>8762</td>\n",
              "      <td>-605.0</td>\n",
              "      <td>2</td>\n",
              "      <td>5.90</td>\n",
              "      <td>2.950000</td>\n",
              "      <td>0.00</td>\n",
              "      <td>0.0</td>\n",
              "    </tr>\n",
              "    <tr>\n",
              "      <th>3162</th>\n",
              "      <td>5.002719</td>\n",
              "      <td>0.277831</td>\n",
              "      <td>3861</td>\n",
              "      <td>-602.0</td>\n",
              "      <td>2</td>\n",
              "      <td>5.30</td>\n",
              "      <td>2.650000</td>\n",
              "      <td>0.00</td>\n",
              "      <td>0.0</td>\n",
              "    </tr>\n",
              "    <tr>\n",
              "      <th>3306</th>\n",
              "      <td>5.002719</td>\n",
              "      <td>0.277831</td>\n",
              "      <td>4031</td>\n",
              "      <td>-496.0</td>\n",
              "      <td>5</td>\n",
              "      <td>14.87</td>\n",
              "      <td>2.974000</td>\n",
              "      <td>0.00</td>\n",
              "      <td>0.0</td>\n",
              "    </tr>\n",
              "    <tr>\n",
              "      <th>200</th>\n",
              "      <td>5.002719</td>\n",
              "      <td>0.277831</td>\n",
              "      <td>269</td>\n",
              "      <td>-452.0</td>\n",
              "      <td>2</td>\n",
              "      <td>6.28</td>\n",
              "      <td>3.140000</td>\n",
              "      <td>0.00</td>\n",
              "      <td>0.0</td>\n",
              "    </tr>\n",
              "  </tbody>\n",
              "</table>\n",
              "<p>8426 rows × 9 columns</p>\n",
              "</div>\n",
              "      <button class=\"colab-df-convert\" onclick=\"convertToInteractive('df-ac77593c-f899-4010-969d-203b8587fab8')\"\n",
              "              title=\"Convert this dataframe to an interactive table.\"\n",
              "              style=\"display:none;\">\n",
              "        \n",
              "  <svg xmlns=\"http://www.w3.org/2000/svg\" height=\"24px\"viewBox=\"0 0 24 24\"\n",
              "       width=\"24px\">\n",
              "    <path d=\"M0 0h24v24H0V0z\" fill=\"none\"/>\n",
              "    <path d=\"M18.56 5.44l.94 2.06.94-2.06 2.06-.94-2.06-.94-.94-2.06-.94 2.06-2.06.94zm-11 1L8.5 8.5l.94-2.06 2.06-.94-2.06-.94L8.5 2.5l-.94 2.06-2.06.94zm10 10l.94 2.06.94-2.06 2.06-.94-2.06-.94-.94-2.06-.94 2.06-2.06.94z\"/><path d=\"M17.41 7.96l-1.37-1.37c-.4-.4-.92-.59-1.43-.59-.52 0-1.04.2-1.43.59L10.3 9.45l-7.72 7.72c-.78.78-.78 2.05 0 2.83L4 21.41c.39.39.9.59 1.41.59.51 0 1.02-.2 1.41-.59l7.78-7.78 2.81-2.81c.8-.78.8-2.07 0-2.86zM5.41 20L4 18.59l7.72-7.72 1.47 1.35L5.41 20z\"/>\n",
              "  </svg>\n",
              "      </button>\n",
              "      \n",
              "  <style>\n",
              "    .colab-df-container {\n",
              "      display:flex;\n",
              "      flex-wrap:wrap;\n",
              "      gap: 12px;\n",
              "    }\n",
              "\n",
              "    .colab-df-convert {\n",
              "      background-color: #E8F0FE;\n",
              "      border: none;\n",
              "      border-radius: 50%;\n",
              "      cursor: pointer;\n",
              "      display: none;\n",
              "      fill: #1967D2;\n",
              "      height: 32px;\n",
              "      padding: 0 0 0 0;\n",
              "      width: 32px;\n",
              "    }\n",
              "\n",
              "    .colab-df-convert:hover {\n",
              "      background-color: #E2EBFA;\n",
              "      box-shadow: 0px 1px 2px rgba(60, 64, 67, 0.3), 0px 1px 3px 1px rgba(60, 64, 67, 0.15);\n",
              "      fill: #174EA6;\n",
              "    }\n",
              "\n",
              "    [theme=dark] .colab-df-convert {\n",
              "      background-color: #3B4455;\n",
              "      fill: #D2E3FC;\n",
              "    }\n",
              "\n",
              "    [theme=dark] .colab-df-convert:hover {\n",
              "      background-color: #434B5C;\n",
              "      box-shadow: 0px 1px 3px 1px rgba(0, 0, 0, 0.15);\n",
              "      filter: drop-shadow(0px 1px 2px rgba(0, 0, 0, 0.3));\n",
              "      fill: #FFFFFF;\n",
              "    }\n",
              "  </style>\n",
              "\n",
              "      <script>\n",
              "        const buttonEl =\n",
              "          document.querySelector('#df-ac77593c-f899-4010-969d-203b8587fab8 button.colab-df-convert');\n",
              "        buttonEl.style.display =\n",
              "          google.colab.kernel.accessAllowed ? 'block' : 'none';\n",
              "\n",
              "        async function convertToInteractive(key) {\n",
              "          const element = document.querySelector('#df-ac77593c-f899-4010-969d-203b8587fab8');\n",
              "          const dataTable =\n",
              "            await google.colab.kernel.invokeFunction('convertToInteractive',\n",
              "                                                     [key], {});\n",
              "          if (!dataTable) return;\n",
              "\n",
              "          const docLinkHtml = 'Like what you see? Visit the ' +\n",
              "            '<a target=\"_blank\" href=https://colab.research.google.com/notebooks/data_table.ipynb>data table notebook</a>'\n",
              "            + ' to learn more about interactive tables.';\n",
              "          element.innerHTML = '';\n",
              "          dataTable['output_type'] = 'display_data';\n",
              "          await google.colab.output.renderOutput(dataTable, element);\n",
              "          const docLink = document.createElement('div');\n",
              "          docLink.innerHTML = docLinkHtml;\n",
              "          element.appendChild(docLink);\n",
              "        }\n",
              "      </script>\n",
              "    </div>\n",
              "  </div>\n",
              "  "
            ]
          },
          "metadata": {},
          "execution_count": 134
        }
      ]
    },
    {
      "cell_type": "markdown",
      "source": [
        "2- Which customers have recently purchased but are unlikely to buy?\n",
        "    - Incentivize actions to increase probability\n",
        "    - provide discounts, encourage referring a friend, nuture by letting them know whats coming "
      ],
      "metadata": {
        "id": "fHj7lZ1IrXA9"
      }
    },
    {
      "cell_type": "code",
      "source": [
        "predictions_df\\\n",
        "  [\n",
        "      predictions_df['recency'] > -90\n",
        "  ]\\\n",
        "  [\n",
        "      predictions_df['pred_prob'] < 0.30\n",
        "  ]\\\n",
        "  .sort_values('pred_prob', ascending=False)"
      ],
      "metadata": {
        "colab": {
          "base_uri": "https://localhost:8080/",
          "height": 458
        },
        "id": "PFrA-TnerJTe",
        "outputId": "dd0e7872-5604-4f8e-df93-5eb310912ddd"
      },
      "execution_count": 135,
      "outputs": [
        {
          "output_type": "stream",
          "name": "stderr",
          "text": [
            "/usr/local/lib/python3.7/dist-packages/ipykernel_launcher.py:5: UserWarning: Boolean Series key will be reindexed to match DataFrame index.\n",
            "  \"\"\"\n"
          ]
        },
        {
          "output_type": "execute_result",
          "data": {
            "text/plain": [
              "      pred_spend  pred_prob  customer_id  recency  frequency  sales_sum  \\\n",
              "4511    5.002719   0.296872         5497    -88.0          9      25.36   \n",
              "7162    5.327658   0.296872         8725     -8.0          9      24.78   \n",
              "2034    5.327658   0.296872         2501    -28.0         10      25.90   \n",
              "5599    5.327658   0.296872         6831    -46.0         12      25.74   \n",
              "2882    5.327658   0.291982         3517    -42.0          8      23.26   \n",
              "...          ...        ...          ...      ...        ...        ...   \n",
              "558     5.327658   0.285500          713    -18.0          1       2.70   \n",
              "5206    5.327658   0.285500         6325    -50.0          1       2.59   \n",
              "5303    5.327658   0.285500         6448    -44.0          2       5.27   \n",
              "5337    5.327658   0.285500         6495    -22.0          5      10.82   \n",
              "8361    5.327658   0.285500        10204    -46.0          3       8.47   \n",
              "\n",
              "      sales_mean  spend_90_total  spend_90_flag  \n",
              "4511    2.817778            0.00            0.0  \n",
              "7162    2.753333           27.56            1.0  \n",
              "2034    2.590000           20.37            1.0  \n",
              "5599    2.145000           21.55            1.0  \n",
              "2882    2.907500            0.00            0.0  \n",
              "...          ...             ...            ...  \n",
              "558     2.700000            0.00            0.0  \n",
              "5206    2.590000            0.00            0.0  \n",
              "5303    2.635000           26.37            1.0  \n",
              "5337    2.164000            0.00            0.0  \n",
              "8361    2.823333            0.00            0.0  \n",
              "\n",
              "[71 rows x 9 columns]"
            ],
            "text/html": [
              "\n",
              "  <div id=\"df-9f137604-2721-448b-8566-fa2793660829\">\n",
              "    <div class=\"colab-df-container\">\n",
              "      <div>\n",
              "<style scoped>\n",
              "    .dataframe tbody tr th:only-of-type {\n",
              "        vertical-align: middle;\n",
              "    }\n",
              "\n",
              "    .dataframe tbody tr th {\n",
              "        vertical-align: top;\n",
              "    }\n",
              "\n",
              "    .dataframe thead th {\n",
              "        text-align: right;\n",
              "    }\n",
              "</style>\n",
              "<table border=\"1\" class=\"dataframe\">\n",
              "  <thead>\n",
              "    <tr style=\"text-align: right;\">\n",
              "      <th></th>\n",
              "      <th>pred_spend</th>\n",
              "      <th>pred_prob</th>\n",
              "      <th>customer_id</th>\n",
              "      <th>recency</th>\n",
              "      <th>frequency</th>\n",
              "      <th>sales_sum</th>\n",
              "      <th>sales_mean</th>\n",
              "      <th>spend_90_total</th>\n",
              "      <th>spend_90_flag</th>\n",
              "    </tr>\n",
              "  </thead>\n",
              "  <tbody>\n",
              "    <tr>\n",
              "      <th>4511</th>\n",
              "      <td>5.002719</td>\n",
              "      <td>0.296872</td>\n",
              "      <td>5497</td>\n",
              "      <td>-88.0</td>\n",
              "      <td>9</td>\n",
              "      <td>25.36</td>\n",
              "      <td>2.817778</td>\n",
              "      <td>0.00</td>\n",
              "      <td>0.0</td>\n",
              "    </tr>\n",
              "    <tr>\n",
              "      <th>7162</th>\n",
              "      <td>5.327658</td>\n",
              "      <td>0.296872</td>\n",
              "      <td>8725</td>\n",
              "      <td>-8.0</td>\n",
              "      <td>9</td>\n",
              "      <td>24.78</td>\n",
              "      <td>2.753333</td>\n",
              "      <td>27.56</td>\n",
              "      <td>1.0</td>\n",
              "    </tr>\n",
              "    <tr>\n",
              "      <th>2034</th>\n",
              "      <td>5.327658</td>\n",
              "      <td>0.296872</td>\n",
              "      <td>2501</td>\n",
              "      <td>-28.0</td>\n",
              "      <td>10</td>\n",
              "      <td>25.90</td>\n",
              "      <td>2.590000</td>\n",
              "      <td>20.37</td>\n",
              "      <td>1.0</td>\n",
              "    </tr>\n",
              "    <tr>\n",
              "      <th>5599</th>\n",
              "      <td>5.327658</td>\n",
              "      <td>0.296872</td>\n",
              "      <td>6831</td>\n",
              "      <td>-46.0</td>\n",
              "      <td>12</td>\n",
              "      <td>25.74</td>\n",
              "      <td>2.145000</td>\n",
              "      <td>21.55</td>\n",
              "      <td>1.0</td>\n",
              "    </tr>\n",
              "    <tr>\n",
              "      <th>2882</th>\n",
              "      <td>5.327658</td>\n",
              "      <td>0.291982</td>\n",
              "      <td>3517</td>\n",
              "      <td>-42.0</td>\n",
              "      <td>8</td>\n",
              "      <td>23.26</td>\n",
              "      <td>2.907500</td>\n",
              "      <td>0.00</td>\n",
              "      <td>0.0</td>\n",
              "    </tr>\n",
              "    <tr>\n",
              "      <th>...</th>\n",
              "      <td>...</td>\n",
              "      <td>...</td>\n",
              "      <td>...</td>\n",
              "      <td>...</td>\n",
              "      <td>...</td>\n",
              "      <td>...</td>\n",
              "      <td>...</td>\n",
              "      <td>...</td>\n",
              "      <td>...</td>\n",
              "    </tr>\n",
              "    <tr>\n",
              "      <th>558</th>\n",
              "      <td>5.327658</td>\n",
              "      <td>0.285500</td>\n",
              "      <td>713</td>\n",
              "      <td>-18.0</td>\n",
              "      <td>1</td>\n",
              "      <td>2.70</td>\n",
              "      <td>2.700000</td>\n",
              "      <td>0.00</td>\n",
              "      <td>0.0</td>\n",
              "    </tr>\n",
              "    <tr>\n",
              "      <th>5206</th>\n",
              "      <td>5.327658</td>\n",
              "      <td>0.285500</td>\n",
              "      <td>6325</td>\n",
              "      <td>-50.0</td>\n",
              "      <td>1</td>\n",
              "      <td>2.59</td>\n",
              "      <td>2.590000</td>\n",
              "      <td>0.00</td>\n",
              "      <td>0.0</td>\n",
              "    </tr>\n",
              "    <tr>\n",
              "      <th>5303</th>\n",
              "      <td>5.327658</td>\n",
              "      <td>0.285500</td>\n",
              "      <td>6448</td>\n",
              "      <td>-44.0</td>\n",
              "      <td>2</td>\n",
              "      <td>5.27</td>\n",
              "      <td>2.635000</td>\n",
              "      <td>26.37</td>\n",
              "      <td>1.0</td>\n",
              "    </tr>\n",
              "    <tr>\n",
              "      <th>5337</th>\n",
              "      <td>5.327658</td>\n",
              "      <td>0.285500</td>\n",
              "      <td>6495</td>\n",
              "      <td>-22.0</td>\n",
              "      <td>5</td>\n",
              "      <td>10.82</td>\n",
              "      <td>2.164000</td>\n",
              "      <td>0.00</td>\n",
              "      <td>0.0</td>\n",
              "    </tr>\n",
              "    <tr>\n",
              "      <th>8361</th>\n",
              "      <td>5.327658</td>\n",
              "      <td>0.285500</td>\n",
              "      <td>10204</td>\n",
              "      <td>-46.0</td>\n",
              "      <td>3</td>\n",
              "      <td>8.47</td>\n",
              "      <td>2.823333</td>\n",
              "      <td>0.00</td>\n",
              "      <td>0.0</td>\n",
              "    </tr>\n",
              "  </tbody>\n",
              "</table>\n",
              "<p>71 rows × 9 columns</p>\n",
              "</div>\n",
              "      <button class=\"colab-df-convert\" onclick=\"convertToInteractive('df-9f137604-2721-448b-8566-fa2793660829')\"\n",
              "              title=\"Convert this dataframe to an interactive table.\"\n",
              "              style=\"display:none;\">\n",
              "        \n",
              "  <svg xmlns=\"http://www.w3.org/2000/svg\" height=\"24px\"viewBox=\"0 0 24 24\"\n",
              "       width=\"24px\">\n",
              "    <path d=\"M0 0h24v24H0V0z\" fill=\"none\"/>\n",
              "    <path d=\"M18.56 5.44l.94 2.06.94-2.06 2.06-.94-2.06-.94-.94-2.06-.94 2.06-2.06.94zm-11 1L8.5 8.5l.94-2.06 2.06-.94-2.06-.94L8.5 2.5l-.94 2.06-2.06.94zm10 10l.94 2.06.94-2.06 2.06-.94-2.06-.94-.94-2.06-.94 2.06-2.06.94z\"/><path d=\"M17.41 7.96l-1.37-1.37c-.4-.4-.92-.59-1.43-.59-.52 0-1.04.2-1.43.59L10.3 9.45l-7.72 7.72c-.78.78-.78 2.05 0 2.83L4 21.41c.39.39.9.59 1.41.59.51 0 1.02-.2 1.41-.59l7.78-7.78 2.81-2.81c.8-.78.8-2.07 0-2.86zM5.41 20L4 18.59l7.72-7.72 1.47 1.35L5.41 20z\"/>\n",
              "  </svg>\n",
              "      </button>\n",
              "      \n",
              "  <style>\n",
              "    .colab-df-container {\n",
              "      display:flex;\n",
              "      flex-wrap:wrap;\n",
              "      gap: 12px;\n",
              "    }\n",
              "\n",
              "    .colab-df-convert {\n",
              "      background-color: #E8F0FE;\n",
              "      border: none;\n",
              "      border-radius: 50%;\n",
              "      cursor: pointer;\n",
              "      display: none;\n",
              "      fill: #1967D2;\n",
              "      height: 32px;\n",
              "      padding: 0 0 0 0;\n",
              "      width: 32px;\n",
              "    }\n",
              "\n",
              "    .colab-df-convert:hover {\n",
              "      background-color: #E2EBFA;\n",
              "      box-shadow: 0px 1px 2px rgba(60, 64, 67, 0.3), 0px 1px 3px 1px rgba(60, 64, 67, 0.15);\n",
              "      fill: #174EA6;\n",
              "    }\n",
              "\n",
              "    [theme=dark] .colab-df-convert {\n",
              "      background-color: #3B4455;\n",
              "      fill: #D2E3FC;\n",
              "    }\n",
              "\n",
              "    [theme=dark] .colab-df-convert:hover {\n",
              "      background-color: #434B5C;\n",
              "      box-shadow: 0px 1px 3px 1px rgba(0, 0, 0, 0.15);\n",
              "      filter: drop-shadow(0px 1px 2px rgba(0, 0, 0, 0.3));\n",
              "      fill: #FFFFFF;\n",
              "    }\n",
              "  </style>\n",
              "\n",
              "      <script>\n",
              "        const buttonEl =\n",
              "          document.querySelector('#df-9f137604-2721-448b-8566-fa2793660829 button.colab-df-convert');\n",
              "        buttonEl.style.display =\n",
              "          google.colab.kernel.accessAllowed ? 'block' : 'none';\n",
              "\n",
              "        async function convertToInteractive(key) {\n",
              "          const element = document.querySelector('#df-9f137604-2721-448b-8566-fa2793660829');\n",
              "          const dataTable =\n",
              "            await google.colab.kernel.invokeFunction('convertToInteractive',\n",
              "                                                     [key], {});\n",
              "          if (!dataTable) return;\n",
              "\n",
              "          const docLinkHtml = 'Like what you see? Visit the ' +\n",
              "            '<a target=\"_blank\" href=https://colab.research.google.com/notebooks/data_table.ipynb>data table notebook</a>'\n",
              "            + ' to learn more about interactive tables.';\n",
              "          element.innerHTML = '';\n",
              "          dataTable['output_type'] = 'display_data';\n",
              "          await google.colab.output.renderOutput(dataTable, element);\n",
              "          const docLink = document.createElement('div');\n",
              "          docLink.innerHTML = docLinkHtml;\n",
              "          element.appendChild(docLink);\n",
              "        }\n",
              "      </script>\n",
              "    </div>\n",
              "  </div>\n",
              "  "
            ]
          },
          "metadata": {},
          "execution_count": 135
        }
      ]
    },
    {
      "cell_type": "markdown",
      "source": [
        "from the above table we can see customers that have purchased recently but they have probability of future spending low"
      ],
      "metadata": {
        "id": "7i3AjuhXtUVv"
      }
    },
    {
      "cell_type": "markdown",
      "source": [
        "3-Next up we have \"Missed Oportunities\" -big spenders that could be unlocked ---------\n",
        "- Send bundle offers encouraging volume purchases\n",
        "- Focus on missed opportunities\n"
      ],
      "metadata": {
        "id": "gRDOtsxUtta4"
      }
    },
    {
      "cell_type": "code",
      "source": [
        "predictions_df\\\n",
        "  [\n",
        "      predictions_df['spend_90_total']==0.0\n",
        "  ]\\\n",
        "  .sort_values('pred_spend', ascending=False)"
      ],
      "metadata": {
        "colab": {
          "base_uri": "https://localhost:8080/",
          "height": 424
        },
        "id": "rbvaSsmdsUsE",
        "outputId": "dfe98524-a567-4229-f64a-9a2306af63ad"
      },
      "execution_count": 136,
      "outputs": [
        {
          "output_type": "execute_result",
          "data": {
            "text/plain": [
              "      pred_spend  pred_prob  customer_id  recency  frequency  sales_sum  \\\n",
              "1784  136.260391   0.795201         2201     -3.0        186    1168.69   \n",
              "5384  120.355682   0.795201         6560     -7.0        101     669.09   \n",
              "362   106.812126   0.788925          467    -10.0         86     592.89   \n",
              "3259  102.701843   0.788925         3976     -7.0         94     608.72   \n",
              "6327   96.694534   0.788925         7720     -9.0         72     512.02   \n",
              "...          ...        ...          ...      ...        ...        ...   \n",
              "5194    5.002719   0.285500         6310   -191.0          4       9.41   \n",
              "5193    5.002719   0.329344         6309   -376.0         12      38.02   \n",
              "7694    5.002719   0.277831         9375   -411.0          2       6.09   \n",
              "6021    5.002719   0.278761         7349   -382.0          4      13.77   \n",
              "4177    5.002719   0.287028         5097   -257.0          6      16.56   \n",
              "\n",
              "      sales_mean  spend_90_total  spend_90_flag  \n",
              "1784    6.283280             0.0            0.0  \n",
              "5384    6.624653             0.0            0.0  \n",
              "362     6.894070             0.0            0.0  \n",
              "3259    6.475745             0.0            0.0  \n",
              "6327    7.111389             0.0            0.0  \n",
              "...          ...             ...            ...  \n",
              "5194    2.352500             0.0            0.0  \n",
              "5193    3.168333             0.0            0.0  \n",
              "7694    3.045000             0.0            0.0  \n",
              "6021    3.442500             0.0            0.0  \n",
              "4177    2.760000             0.0            0.0  \n",
              "\n",
              "[3911 rows x 9 columns]"
            ],
            "text/html": [
              "\n",
              "  <div id=\"df-dea90402-0fa5-4645-9c59-57158dcc6a36\">\n",
              "    <div class=\"colab-df-container\">\n",
              "      <div>\n",
              "<style scoped>\n",
              "    .dataframe tbody tr th:only-of-type {\n",
              "        vertical-align: middle;\n",
              "    }\n",
              "\n",
              "    .dataframe tbody tr th {\n",
              "        vertical-align: top;\n",
              "    }\n",
              "\n",
              "    .dataframe thead th {\n",
              "        text-align: right;\n",
              "    }\n",
              "</style>\n",
              "<table border=\"1\" class=\"dataframe\">\n",
              "  <thead>\n",
              "    <tr style=\"text-align: right;\">\n",
              "      <th></th>\n",
              "      <th>pred_spend</th>\n",
              "      <th>pred_prob</th>\n",
              "      <th>customer_id</th>\n",
              "      <th>recency</th>\n",
              "      <th>frequency</th>\n",
              "      <th>sales_sum</th>\n",
              "      <th>sales_mean</th>\n",
              "      <th>spend_90_total</th>\n",
              "      <th>spend_90_flag</th>\n",
              "    </tr>\n",
              "  </thead>\n",
              "  <tbody>\n",
              "    <tr>\n",
              "      <th>1784</th>\n",
              "      <td>136.260391</td>\n",
              "      <td>0.795201</td>\n",
              "      <td>2201</td>\n",
              "      <td>-3.0</td>\n",
              "      <td>186</td>\n",
              "      <td>1168.69</td>\n",
              "      <td>6.283280</td>\n",
              "      <td>0.0</td>\n",
              "      <td>0.0</td>\n",
              "    </tr>\n",
              "    <tr>\n",
              "      <th>5384</th>\n",
              "      <td>120.355682</td>\n",
              "      <td>0.795201</td>\n",
              "      <td>6560</td>\n",
              "      <td>-7.0</td>\n",
              "      <td>101</td>\n",
              "      <td>669.09</td>\n",
              "      <td>6.624653</td>\n",
              "      <td>0.0</td>\n",
              "      <td>0.0</td>\n",
              "    </tr>\n",
              "    <tr>\n",
              "      <th>362</th>\n",
              "      <td>106.812126</td>\n",
              "      <td>0.788925</td>\n",
              "      <td>467</td>\n",
              "      <td>-10.0</td>\n",
              "      <td>86</td>\n",
              "      <td>592.89</td>\n",
              "      <td>6.894070</td>\n",
              "      <td>0.0</td>\n",
              "      <td>0.0</td>\n",
              "    </tr>\n",
              "    <tr>\n",
              "      <th>3259</th>\n",
              "      <td>102.701843</td>\n",
              "      <td>0.788925</td>\n",
              "      <td>3976</td>\n",
              "      <td>-7.0</td>\n",
              "      <td>94</td>\n",
              "      <td>608.72</td>\n",
              "      <td>6.475745</td>\n",
              "      <td>0.0</td>\n",
              "      <td>0.0</td>\n",
              "    </tr>\n",
              "    <tr>\n",
              "      <th>6327</th>\n",
              "      <td>96.694534</td>\n",
              "      <td>0.788925</td>\n",
              "      <td>7720</td>\n",
              "      <td>-9.0</td>\n",
              "      <td>72</td>\n",
              "      <td>512.02</td>\n",
              "      <td>7.111389</td>\n",
              "      <td>0.0</td>\n",
              "      <td>0.0</td>\n",
              "    </tr>\n",
              "    <tr>\n",
              "      <th>...</th>\n",
              "      <td>...</td>\n",
              "      <td>...</td>\n",
              "      <td>...</td>\n",
              "      <td>...</td>\n",
              "      <td>...</td>\n",
              "      <td>...</td>\n",
              "      <td>...</td>\n",
              "      <td>...</td>\n",
              "      <td>...</td>\n",
              "    </tr>\n",
              "    <tr>\n",
              "      <th>5194</th>\n",
              "      <td>5.002719</td>\n",
              "      <td>0.285500</td>\n",
              "      <td>6310</td>\n",
              "      <td>-191.0</td>\n",
              "      <td>4</td>\n",
              "      <td>9.41</td>\n",
              "      <td>2.352500</td>\n",
              "      <td>0.0</td>\n",
              "      <td>0.0</td>\n",
              "    </tr>\n",
              "    <tr>\n",
              "      <th>5193</th>\n",
              "      <td>5.002719</td>\n",
              "      <td>0.329344</td>\n",
              "      <td>6309</td>\n",
              "      <td>-376.0</td>\n",
              "      <td>12</td>\n",
              "      <td>38.02</td>\n",
              "      <td>3.168333</td>\n",
              "      <td>0.0</td>\n",
              "      <td>0.0</td>\n",
              "    </tr>\n",
              "    <tr>\n",
              "      <th>7694</th>\n",
              "      <td>5.002719</td>\n",
              "      <td>0.277831</td>\n",
              "      <td>9375</td>\n",
              "      <td>-411.0</td>\n",
              "      <td>2</td>\n",
              "      <td>6.09</td>\n",
              "      <td>3.045000</td>\n",
              "      <td>0.0</td>\n",
              "      <td>0.0</td>\n",
              "    </tr>\n",
              "    <tr>\n",
              "      <th>6021</th>\n",
              "      <td>5.002719</td>\n",
              "      <td>0.278761</td>\n",
              "      <td>7349</td>\n",
              "      <td>-382.0</td>\n",
              "      <td>4</td>\n",
              "      <td>13.77</td>\n",
              "      <td>3.442500</td>\n",
              "      <td>0.0</td>\n",
              "      <td>0.0</td>\n",
              "    </tr>\n",
              "    <tr>\n",
              "      <th>4177</th>\n",
              "      <td>5.002719</td>\n",
              "      <td>0.287028</td>\n",
              "      <td>5097</td>\n",
              "      <td>-257.0</td>\n",
              "      <td>6</td>\n",
              "      <td>16.56</td>\n",
              "      <td>2.760000</td>\n",
              "      <td>0.0</td>\n",
              "      <td>0.0</td>\n",
              "    </tr>\n",
              "  </tbody>\n",
              "</table>\n",
              "<p>3911 rows × 9 columns</p>\n",
              "</div>\n",
              "      <button class=\"colab-df-convert\" onclick=\"convertToInteractive('df-dea90402-0fa5-4645-9c59-57158dcc6a36')\"\n",
              "              title=\"Convert this dataframe to an interactive table.\"\n",
              "              style=\"display:none;\">\n",
              "        \n",
              "  <svg xmlns=\"http://www.w3.org/2000/svg\" height=\"24px\"viewBox=\"0 0 24 24\"\n",
              "       width=\"24px\">\n",
              "    <path d=\"M0 0h24v24H0V0z\" fill=\"none\"/>\n",
              "    <path d=\"M18.56 5.44l.94 2.06.94-2.06 2.06-.94-2.06-.94-.94-2.06-.94 2.06-2.06.94zm-11 1L8.5 8.5l.94-2.06 2.06-.94-2.06-.94L8.5 2.5l-.94 2.06-2.06.94zm10 10l.94 2.06.94-2.06 2.06-.94-2.06-.94-.94-2.06-.94 2.06-2.06.94z\"/><path d=\"M17.41 7.96l-1.37-1.37c-.4-.4-.92-.59-1.43-.59-.52 0-1.04.2-1.43.59L10.3 9.45l-7.72 7.72c-.78.78-.78 2.05 0 2.83L4 21.41c.39.39.9.59 1.41.59.51 0 1.02-.2 1.41-.59l7.78-7.78 2.81-2.81c.8-.78.8-2.07 0-2.86zM5.41 20L4 18.59l7.72-7.72 1.47 1.35L5.41 20z\"/>\n",
              "  </svg>\n",
              "      </button>\n",
              "      \n",
              "  <style>\n",
              "    .colab-df-container {\n",
              "      display:flex;\n",
              "      flex-wrap:wrap;\n",
              "      gap: 12px;\n",
              "    }\n",
              "\n",
              "    .colab-df-convert {\n",
              "      background-color: #E8F0FE;\n",
              "      border: none;\n",
              "      border-radius: 50%;\n",
              "      cursor: pointer;\n",
              "      display: none;\n",
              "      fill: #1967D2;\n",
              "      height: 32px;\n",
              "      padding: 0 0 0 0;\n",
              "      width: 32px;\n",
              "    }\n",
              "\n",
              "    .colab-df-convert:hover {\n",
              "      background-color: #E2EBFA;\n",
              "      box-shadow: 0px 1px 2px rgba(60, 64, 67, 0.3), 0px 1px 3px 1px rgba(60, 64, 67, 0.15);\n",
              "      fill: #174EA6;\n",
              "    }\n",
              "\n",
              "    [theme=dark] .colab-df-convert {\n",
              "      background-color: #3B4455;\n",
              "      fill: #D2E3FC;\n",
              "    }\n",
              "\n",
              "    [theme=dark] .colab-df-convert:hover {\n",
              "      background-color: #434B5C;\n",
              "      box-shadow: 0px 1px 3px 1px rgba(0, 0, 0, 0.15);\n",
              "      filter: drop-shadow(0px 1px 2px rgba(0, 0, 0, 0.3));\n",
              "      fill: #FFFFFF;\n",
              "    }\n",
              "  </style>\n",
              "\n",
              "      <script>\n",
              "        const buttonEl =\n",
              "          document.querySelector('#df-dea90402-0fa5-4645-9c59-57158dcc6a36 button.colab-df-convert');\n",
              "        buttonEl.style.display =\n",
              "          google.colab.kernel.accessAllowed ? 'block' : 'none';\n",
              "\n",
              "        async function convertToInteractive(key) {\n",
              "          const element = document.querySelector('#df-dea90402-0fa5-4645-9c59-57158dcc6a36');\n",
              "          const dataTable =\n",
              "            await google.colab.kernel.invokeFunction('convertToInteractive',\n",
              "                                                     [key], {});\n",
              "          if (!dataTable) return;\n",
              "\n",
              "          const docLinkHtml = 'Like what you see? Visit the ' +\n",
              "            '<a target=\"_blank\" href=https://colab.research.google.com/notebooks/data_table.ipynb>data table notebook</a>'\n",
              "            + ' to learn more about interactive tables.';\n",
              "          element.innerHTML = '';\n",
              "          dataTable['output_type'] = 'display_data';\n",
              "          await google.colab.output.renderOutput(dataTable, element);\n",
              "          const docLink = document.createElement('div');\n",
              "          docLink.innerHTML = docLinkHtml;\n",
              "          element.appendChild(docLink);\n",
              "        }\n",
              "      </script>\n",
              "    </div>\n",
              "  </div>\n",
              "  "
            ]
          },
          "metadata": {},
          "execution_count": 136
        }
      ]
    },
    {
      "cell_type": "markdown",
      "source": [
        "from the table we can see the customers having high spend probability but have spend nothing\n"
      ],
      "metadata": {
        "id": "j6j0xg-vunwc"
      }
    },
    {
      "cell_type": "code",
      "source": [
        ""
      ],
      "metadata": {
        "id": "OiYBvNy8ulzx"
      },
      "execution_count": 136,
      "outputs": []
    }
  ]
}